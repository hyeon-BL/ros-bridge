{
 "cells": [
  {
   "cell_type": "markdown",
   "metadata": {},
   "source": [
    "### Get packages to train the model"
   ]
  },
  {
   "cell_type": "code",
   "execution_count": 1,
   "metadata": {},
   "outputs": [
    {
     "name": "stderr",
     "output_type": "stream",
     "text": [
      "2025-01-20 10:00:31.620743: I tensorflow/core/platform/cpu_feature_guard.cc:193] This TensorFlow binary is optimized with oneAPI Deep Neural Network Library (oneDNN) to use the following CPU instructions in performance-critical operations:  AVX2 AVX512F AVX512_VNNI FMA\n",
      "To enable them in other operations, rebuild TensorFlow with the appropriate compiler flags.\n",
      "2025-01-20 10:00:32.060152: I tensorflow/core/util/port.cc:104] oneDNN custom operations are on. You may see slightly different numerical results due to floating-point round-off errors from different computation orders. To turn them off, set the environment variable `TF_ENABLE_ONEDNN_OPTS=0`.\n",
      "2025-01-20 10:00:33.624871: W tensorflow/compiler/xla/stream_executor/platform/default/dso_loader.cc:64] Could not load dynamic library 'libnvinfer.so.7'; dlerror: libnvinfer.so.7: cannot open shared object file: No such file or directory; LD_LIBRARY_PATH: /home/winter/.pyenv/versions/3.7.17/envs/carla-0.9.13-py3.7/lib/python3.7/site-packages/cv2/../../lib64:/home/winter/carla-ros-bridge/install/rviz_carla_plugin/lib:/home/winter/carla-ros-bridge/install/carla_waypoint_types/lib:/home/winter/carla-ros-bridge/install/carla_ros_scenario_runner_types/lib:/home/winter/carla-ros-bridge/install/carla_ackermann_msgs/lib:/home/winter/carla-ros-bridge/install/carla_msgs/lib:/opt/ros/foxy/opt/yaml_cpp_vendor/lib:/opt/ros/foxy/opt/rviz_ogre_vendor/lib:/opt/ros/foxy/lib/x86_64-linux-gnu:/opt/ros/foxy/lib:/usr/local/cuda-11.2/lib64/:/usr/local/cuda-11.2/lib64/\n",
      "2025-01-20 10:00:33.624994: W tensorflow/compiler/xla/stream_executor/platform/default/dso_loader.cc:64] Could not load dynamic library 'libnvinfer_plugin.so.7'; dlerror: libnvinfer_plugin.so.7: cannot open shared object file: No such file or directory; LD_LIBRARY_PATH: /home/winter/.pyenv/versions/3.7.17/envs/carla-0.9.13-py3.7/lib/python3.7/site-packages/cv2/../../lib64:/home/winter/carla-ros-bridge/install/rviz_carla_plugin/lib:/home/winter/carla-ros-bridge/install/carla_waypoint_types/lib:/home/winter/carla-ros-bridge/install/carla_ros_scenario_runner_types/lib:/home/winter/carla-ros-bridge/install/carla_ackermann_msgs/lib:/home/winter/carla-ros-bridge/install/carla_msgs/lib:/opt/ros/foxy/opt/yaml_cpp_vendor/lib:/opt/ros/foxy/opt/rviz_ogre_vendor/lib:/opt/ros/foxy/lib/x86_64-linux-gnu:/opt/ros/foxy/lib:/usr/local/cuda-11.2/lib64/:/usr/local/cuda-11.2/lib64/\n",
      "2025-01-20 10:00:33.625002: W tensorflow/compiler/tf2tensorrt/utils/py_utils.cc:38] TF-TRT Warning: Cannot dlopen some TensorRT libraries. If you would like to use Nvidia GPU with TensorRT, please make sure the missing libraries mentioned above are installed properly.\n"
     ]
    }
   ],
   "source": [
    "import os\n",
    "import cv2\n",
    "import numpy as np\n",
    "import random\n",
    "\n",
    "from tensorflow import keras\n",
    "from matplotlib import pyplot as plt\n",
    "\n",
    "import cv2\n",
    "\n",
    "from keras.models import Model, Sequential\n",
    "from keras.layers import Dense, Input, Dropout, MaxPooling2D, Conv2D, Concatenate, Embedding, Reshape, Flatten, Activation\n",
    "from keras.optimizers import SGD"
   ]
  },
  {
   "cell_type": "code",
   "execution_count": null,
   "metadata": {},
   "outputs": [
    {
     "name": "stdout",
     "output_type": "stream",
     "text": [
      "1 Physical GPUs, 1 Logical GPUs\n"
     ]
    },
    {
     "name": "stderr",
     "output_type": "stream",
     "text": [
      "2025-01-20 10:00:45.824771: I tensorflow/compiler/xla/stream_executor/cuda/cuda_gpu_executor.cc:967] could not open file to read NUMA node: /sys/bus/pci/devices/0000:03:00.0/numa_node\n",
      "Your kernel may have been built without NUMA support.\n",
      "2025-01-20 10:00:45.876099: I tensorflow/compiler/xla/stream_executor/cuda/cuda_gpu_executor.cc:967] could not open file to read NUMA node: /sys/bus/pci/devices/0000:03:00.0/numa_node\n",
      "Your kernel may have been built without NUMA support.\n",
      "2025-01-20 10:00:45.876435: I tensorflow/compiler/xla/stream_executor/cuda/cuda_gpu_executor.cc:967] could not open file to read NUMA node: /sys/bus/pci/devices/0000:03:00.0/numa_node\n",
      "Your kernel may have been built without NUMA support.\n",
      "2025-01-20 10:00:45.880504: I tensorflow/core/platform/cpu_feature_guard.cc:193] This TensorFlow binary is optimized with oneAPI Deep Neural Network Library (oneDNN) to use the following CPU instructions in performance-critical operations:  AVX2 AVX512F AVX512_VNNI FMA\n",
      "To enable them in other operations, rebuild TensorFlow with the appropriate compiler flags.\n",
      "2025-01-20 10:00:45.883680: I tensorflow/compiler/xla/stream_executor/cuda/cuda_gpu_executor.cc:967] could not open file to read NUMA node: /sys/bus/pci/devices/0000:03:00.0/numa_node\n",
      "Your kernel may have been built without NUMA support.\n",
      "2025-01-20 10:00:45.884160: I tensorflow/compiler/xla/stream_executor/cuda/cuda_gpu_executor.cc:967] could not open file to read NUMA node: /sys/bus/pci/devices/0000:03:00.0/numa_node\n",
      "Your kernel may have been built without NUMA support.\n",
      "2025-01-20 10:00:45.884496: I tensorflow/compiler/xla/stream_executor/cuda/cuda_gpu_executor.cc:967] could not open file to read NUMA node: /sys/bus/pci/devices/0000:03:00.0/numa_node\n",
      "Your kernel may have been built without NUMA support.\n",
      "2025-01-20 10:00:47.213579: I tensorflow/compiler/xla/stream_executor/cuda/cuda_gpu_executor.cc:967] could not open file to read NUMA node: /sys/bus/pci/devices/0000:03:00.0/numa_node\n",
      "Your kernel may have been built without NUMA support.\n",
      "2025-01-20 10:00:47.214748: I tensorflow/compiler/xla/stream_executor/cuda/cuda_gpu_executor.cc:967] could not open file to read NUMA node: /sys/bus/pci/devices/0000:03:00.0/numa_node\n",
      "Your kernel may have been built without NUMA support.\n",
      "2025-01-20 10:00:47.214763: I tensorflow/core/common_runtime/gpu/gpu_device.cc:1700] Could not identify NUMA node of platform GPU id 0, defaulting to 0.  Your kernel may not have been built with NUMA support.\n",
      "2025-01-20 10:00:47.215007: I tensorflow/compiler/xla/stream_executor/cuda/cuda_gpu_executor.cc:967] could not open file to read NUMA node: /sys/bus/pci/devices/0000:03:00.0/numa_node\n",
      "Your kernel may have been built without NUMA support.\n",
      "2025-01-20 10:00:47.215044: I tensorflow/core/common_runtime/gpu/gpu_device.cc:1613] Created device /job:localhost/replica:0/task:0/device:GPU:0 with 7365 MB memory:  -> device: 0, name: NVIDIA GeForce RTX 3080, pci bus id: 0000:03:00.0, compute capability: 8.6\n"
     ]
    }
   ],
   "source": [
    "import tensorflow as tf\n",
    "os.environ['TF_GPU_ALLOCATOR'] = 'cuda_malloc_async'\n",
    "gpus = tf.config.experimental.list_physical_devices('GPU')\n",
    "if gpus:\n",
    "    try:\n",
    "        # Currently, memory growth needs to be the same across GPUs\n",
    "        for gpu in gpus:\n",
    "            tf.config.experimental.set_memory_growth(gpu, True)\n",
    "        logical_gpus = tf.config.experimental.list_logical_devices('GPU')\n",
    "        print(len(gpus), \"Physical GPUs,\", len(logical_gpus), \"Logical GPUs\")\n",
    "    except RuntimeError as e:\n",
    "        # Memory growth must be set before GPUs have been initialized\n",
    "        print(e)"
   ]
  },
  {
   "cell_type": "markdown",
   "metadata": {},
   "source": [
    "### First attempt to train a model based on images generated\n",
    "- 1130 images\n",
    "- full original image data"
   ]
  },
  {
   "cell_type": "code",
   "execution_count": 2,
   "metadata": {},
   "outputs": [],
   "source": [
    "#constants to resize image to\n",
    "HEIGHT = 90\n",
    "WIDTH = 160\n",
    "\n",
    "\n",
    "YAW_ADJ_DEGREES = 35 # e.g. goes from -35 to +35\n",
    "\n",
    "\n",
    "#get a lsit of files\n",
    "mypath = '/home/winter/carla-ros-bridge/src/ros-bridge/learning_carla/GPS_and_CV/_img'\n",
    "images = [f.split('.png')[0] for f in os.listdir(mypath) if f.endswith(\".png\")]\n",
    "\n",
    "random.shuffle(images)\n",
    "# get a list when both are available: image and steering"
   ]
  },
  {
   "cell_type": "code",
   "execution_count": 3,
   "metadata": {},
   "outputs": [],
   "source": [
    "# read training data \n",
    "X = [] #images\n",
    "X1 = [] # gen direction\n",
    "Y = [] #expected steering for this image\n",
    "for example in images:\n",
    "    img_path = mypath+'/'+example+'.png'\n",
    "    image = cv2.imread(img_path,cv2.IMREAD_COLOR)\n",
    "    # option to make images smaller\n",
    "    image = cv2.resize(image, (WIDTH,HEIGHT))\n",
    "    # this version adds taking lower side of the image\n",
    "    X.append(image / 255) # adding another dimension and normalising pixels to 0-1\n",
    "    # gen direction values are taken from after 1st '_' in file name\n",
    "    X1.append(int(example.split('_')[1]))\n",
    "    # y labels are taken from after 2nd '_' in file name\n",
    "    y = float(example.split('_')[2])\n",
    "    # convert to a fraction of 90 degrees so -1 is all the way left and + 1 is all the way right\n",
    "    if y >35:\n",
    "        y = 35\n",
    "    elif y<-35:\n",
    "        y = -35\n",
    "    \n",
    "    y = float(y)/YAW_ADJ_DEGREES # rescale to -1 to +1 so -1 is when max left 35degrees and +1 is +35deg\n",
    "    Y.append(y)"
   ]
  },
  {
   "cell_type": "code",
   "execution_count": 4,
   "metadata": {},
   "outputs": [],
   "source": [
    "#convert to numpy arrays\n",
    "X = np.array(X)\n",
    "X1 = np.array(X1)\n",
    "Y = np.array(Y)"
   ]
  },
  {
   "cell_type": "code",
   "execution_count": 5,
   "metadata": {},
   "outputs": [
    {
     "name": "stdout",
     "output_type": "stream",
     "text": [
      "Model: \"model\"\n",
      "__________________________________________________________________________________________________\n",
      " Layer (type)                   Output Shape         Param #     Connected to                     \n",
      "==================================================================================================\n",
      " input_1 (InputLayer)           [(None, 90, 160, 3)  0           []                               \n",
      "                                ]                                                                 \n",
      "                                                                                                  \n",
      " conv2d (Conv2D)                (None, 90, 160, 64)  1792        ['input_1[0][0]']                \n",
      "                                                                                                  \n",
      " max_pooling2d (MaxPooling2D)   (None, 45, 80, 64)   0           ['conv2d[0][0]']                 \n",
      "                                                                                                  \n",
      " conv2d_1 (Conv2D)              (None, 45, 80, 64)   36928       ['max_pooling2d[0][0]']          \n",
      "                                                                                                  \n",
      " max_pooling2d_1 (MaxPooling2D)  (None, 22, 40, 64)  0           ['conv2d_1[0][0]']               \n",
      "                                                                                                  \n",
      " conv2d_2 (Conv2D)              (None, 22, 40, 64)   36928       ['max_pooling2d_1[0][0]']        \n",
      "                                                                                                  \n",
      " max_pooling2d_2 (MaxPooling2D)  (None, 11, 20, 64)  0           ['conv2d_2[0][0]']               \n",
      "                                                                                                  \n",
      " flatten (Flatten)              (None, 14080)        0           ['max_pooling2d_2[0][0]']        \n",
      "                                                                                                  \n",
      " input_2 (InputLayer)           [(None, 1)]          0           []                               \n",
      "                                                                                                  \n",
      " concatenate (Concatenate)      (None, 14081)        0           ['flatten[0][0]',                \n",
      "                                                                  'input_2[0][0]']                \n",
      "                                                                                                  \n",
      " dense (Dense)                  (None, 64)           901248      ['concatenate[0][0]']            \n",
      "                                                                                                  \n",
      " dense_1 (Dense)                (None, 1)            65          ['dense[0][0]']                  \n",
      "                                                                                                  \n",
      "==================================================================================================\n",
      "Total params: 976,961\n",
      "Trainable params: 976,961\n",
      "Non-trainable params: 0\n",
      "__________________________________________________________________________________________________\n"
     ]
    },
    {
     "name": "stderr",
     "output_type": "stream",
     "text": [
      "2025-01-15 10:54:26.383110: I tensorflow/compiler/xla/stream_executor/cuda/cuda_gpu_executor.cc:967] could not open file to read NUMA node: /sys/bus/pci/devices/0000:03:00.0/numa_node\n",
      "Your kernel may have been built without NUMA support.\n",
      "2025-01-15 10:54:26.383315: W tensorflow/compiler/xla/stream_executor/platform/default/dso_loader.cc:64] Could not load dynamic library 'libcudart.so.11.0'; dlerror: libcudart.so.11.0: cannot open shared object file: No such file or directory; LD_LIBRARY_PATH: /home/winter/.pyenv/versions/3.7.17/envs/carla-0.9.13-py3.7/lib/python3.7/site-packages/cv2/../../lib64:/home/winter/carla-ros-bridge/install/rviz_carla_plugin/lib:/home/winter/carla-ros-bridge/install/carla_waypoint_types/lib:/home/winter/carla-ros-bridge/install/carla_ros_scenario_runner_types/lib:/home/winter/carla-ros-bridge/install/carla_ackermann_msgs/lib:/home/winter/carla-ros-bridge/install/carla_msgs/lib:/opt/ros/foxy/opt/yaml_cpp_vendor/lib:/opt/ros/foxy/opt/rviz_ogre_vendor/lib:/opt/ros/foxy/lib/x86_64-linux-gnu:/opt/ros/foxy/lib\n",
      "2025-01-15 10:54:26.383974: W tensorflow/compiler/xla/stream_executor/platform/default/dso_loader.cc:64] Could not load dynamic library 'libcublas.so.11'; dlerror: libcublas.so.11: cannot open shared object file: No such file or directory; LD_LIBRARY_PATH: /home/winter/.pyenv/versions/3.7.17/envs/carla-0.9.13-py3.7/lib/python3.7/site-packages/cv2/../../lib64:/home/winter/carla-ros-bridge/install/rviz_carla_plugin/lib:/home/winter/carla-ros-bridge/install/carla_waypoint_types/lib:/home/winter/carla-ros-bridge/install/carla_ros_scenario_runner_types/lib:/home/winter/carla-ros-bridge/install/carla_ackermann_msgs/lib:/home/winter/carla-ros-bridge/install/carla_msgs/lib:/opt/ros/foxy/opt/yaml_cpp_vendor/lib:/opt/ros/foxy/opt/rviz_ogre_vendor/lib:/opt/ros/foxy/lib/x86_64-linux-gnu:/opt/ros/foxy/lib\n",
      "2025-01-15 10:54:26.384329: W tensorflow/compiler/xla/stream_executor/platform/default/dso_loader.cc:64] Could not load dynamic library 'libcublasLt.so.11'; dlerror: libcublasLt.so.11: cannot open shared object file: No such file or directory; LD_LIBRARY_PATH: /home/winter/.pyenv/versions/3.7.17/envs/carla-0.9.13-py3.7/lib/python3.7/site-packages/cv2/../../lib64:/home/winter/carla-ros-bridge/install/rviz_carla_plugin/lib:/home/winter/carla-ros-bridge/install/carla_waypoint_types/lib:/home/winter/carla-ros-bridge/install/carla_ros_scenario_runner_types/lib:/home/winter/carla-ros-bridge/install/carla_ackermann_msgs/lib:/home/winter/carla-ros-bridge/install/carla_msgs/lib:/opt/ros/foxy/opt/yaml_cpp_vendor/lib:/opt/ros/foxy/opt/rviz_ogre_vendor/lib:/opt/ros/foxy/lib/x86_64-linux-gnu:/opt/ros/foxy/lib\n",
      "2025-01-15 10:54:26.384424: W tensorflow/compiler/xla/stream_executor/platform/default/dso_loader.cc:64] Could not load dynamic library 'libcufft.so.10'; dlerror: libcufft.so.10: cannot open shared object file: No such file or directory; LD_LIBRARY_PATH: /home/winter/.pyenv/versions/3.7.17/envs/carla-0.9.13-py3.7/lib/python3.7/site-packages/cv2/../../lib64:/home/winter/carla-ros-bridge/install/rviz_carla_plugin/lib:/home/winter/carla-ros-bridge/install/carla_waypoint_types/lib:/home/winter/carla-ros-bridge/install/carla_ros_scenario_runner_types/lib:/home/winter/carla-ros-bridge/install/carla_ackermann_msgs/lib:/home/winter/carla-ros-bridge/install/carla_msgs/lib:/opt/ros/foxy/opt/yaml_cpp_vendor/lib:/opt/ros/foxy/opt/rviz_ogre_vendor/lib:/opt/ros/foxy/lib/x86_64-linux-gnu:/opt/ros/foxy/lib\n",
      "2025-01-15 10:54:26.618414: W tensorflow/compiler/xla/stream_executor/platform/default/dso_loader.cc:64] Could not load dynamic library 'libcusparse.so.11'; dlerror: libcusparse.so.11: cannot open shared object file: No such file or directory; LD_LIBRARY_PATH: /home/winter/.pyenv/versions/3.7.17/envs/carla-0.9.13-py3.7/lib/python3.7/site-packages/cv2/../../lib64:/home/winter/carla-ros-bridge/install/rviz_carla_plugin/lib:/home/winter/carla-ros-bridge/install/carla_waypoint_types/lib:/home/winter/carla-ros-bridge/install/carla_ros_scenario_runner_types/lib:/home/winter/carla-ros-bridge/install/carla_ackermann_msgs/lib:/home/winter/carla-ros-bridge/install/carla_msgs/lib:/opt/ros/foxy/opt/yaml_cpp_vendor/lib:/opt/ros/foxy/opt/rviz_ogre_vendor/lib:/opt/ros/foxy/lib/x86_64-linux-gnu:/opt/ros/foxy/lib\n",
      "2025-01-15 10:54:26.618783: W tensorflow/compiler/xla/stream_executor/platform/default/dso_loader.cc:64] Could not load dynamic library 'libcudnn.so.8'; dlerror: libcudnn.so.8: cannot open shared object file: No such file or directory; LD_LIBRARY_PATH: /home/winter/.pyenv/versions/3.7.17/envs/carla-0.9.13-py3.7/lib/python3.7/site-packages/cv2/../../lib64:/home/winter/carla-ros-bridge/install/rviz_carla_plugin/lib:/home/winter/carla-ros-bridge/install/carla_waypoint_types/lib:/home/winter/carla-ros-bridge/install/carla_ros_scenario_runner_types/lib:/home/winter/carla-ros-bridge/install/carla_ackermann_msgs/lib:/home/winter/carla-ros-bridge/install/carla_msgs/lib:/opt/ros/foxy/opt/yaml_cpp_vendor/lib:/opt/ros/foxy/opt/rviz_ogre_vendor/lib:/opt/ros/foxy/lib/x86_64-linux-gnu:/opt/ros/foxy/lib\n",
      "2025-01-15 10:54:26.618803: W tensorflow/core/common_runtime/gpu/gpu_device.cc:1934] Cannot dlopen some GPU libraries. Please make sure the missing libraries mentioned above are installed properly if you would like to use GPU. Follow the guide at https://www.tensorflow.org/install/gpu for how to download and setup the required libraries for your platform.\n",
      "Skipping registering GPU devices...\n",
      "2025-01-15 10:54:26.619606: I tensorflow/core/platform/cpu_feature_guard.cc:193] This TensorFlow binary is optimized with oneAPI Deep Neural Network Library (oneDNN) to use the following CPU instructions in performance-critical operations:  AVX2 AVX512F AVX512_VNNI FMA\n",
      "To enable them in other operations, rebuild TensorFlow with the appropriate compiler flags.\n"
     ]
    }
   ],
   "source": [
    "def create_model():\n",
    "    # Image input\n",
    "    image_input = Input(shape=(HEIGHT, WIDTH, 3))\n",
    "    # Integer input\n",
    "    integer_input = Input(shape=(1,))\n",
    "    \n",
    "    # Preprocess the image input\n",
    "    processed_image = Conv2D(64, kernel_size=(3, 3), activation='relu',padding='same')(image_input)\n",
    "    processed_image = MaxPooling2D(pool_size=(2, 2))(processed_image)\n",
    "\n",
    "    processed_image = Conv2D(64, kernel_size=(3, 3), activation='relu',padding='same')(processed_image)\n",
    "    processed_image = MaxPooling2D(pool_size=(2, 2))(processed_image)\n",
    "\n",
    "    processed_image = Conv2D(64, kernel_size=(3, 3), activation='relu',padding='same')(processed_image)\n",
    "    processed_image = MaxPooling2D(pool_size=(2, 2))(processed_image)\n",
    "\n",
    "    processed_image = Flatten()(processed_image)\n",
    "    \n",
    "    # Concatenate image features with integer input\n",
    "    concatenated_inputs = Concatenate()([processed_image, integer_input])\n",
    "    \n",
    "    # Dense layers for prediction\n",
    "    x = Dense(64, activation='relu')(concatenated_inputs)\n",
    "    output = Dense(1, activation='linear')(x)\n",
    "    \n",
    "    # Create the model\n",
    "    model = Model(inputs=[image_input, integer_input], outputs=output)\n",
    "    \n",
    "    return model\n",
    "\n",
    "model = create_model()\n",
    "\n",
    "model.summary()"
   ]
  },
  {
   "cell_type": "code",
   "execution_count": 7,
   "metadata": {},
   "outputs": [
    {
     "name": "stdout",
     "output_type": "stream",
     "text": [
      "Epoch 1/30\n",
      "57/57 [==============================] - 6s 80ms/step - loss: 0.1831 - MSE: 0.1831 - val_loss: 0.0671 - val_MSE: 0.0671\n",
      "Epoch 2/30\n",
      "57/57 [==============================] - 4s 77ms/step - loss: 0.0660 - MSE: 0.0660 - val_loss: 0.0473 - val_MSE: 0.0473\n",
      "Epoch 3/30\n",
      "57/57 [==============================] - 4s 77ms/step - loss: 0.0328 - MSE: 0.0328 - val_loss: 0.0232 - val_MSE: 0.0232\n",
      "Epoch 4/30\n",
      "57/57 [==============================] - 5s 79ms/step - loss: 0.0198 - MSE: 0.0198 - val_loss: 0.0233 - val_MSE: 0.0233\n",
      "Epoch 5/30\n",
      "57/57 [==============================] - 5s 80ms/step - loss: 0.0128 - MSE: 0.0128 - val_loss: 0.0182 - val_MSE: 0.0182\n",
      "Epoch 6/30\n",
      "57/57 [==============================] - 5s 80ms/step - loss: 0.0104 - MSE: 0.0104 - val_loss: 0.0162 - val_MSE: 0.0162\n",
      "Epoch 7/30\n",
      "57/57 [==============================] - 5s 79ms/step - loss: 0.0110 - MSE: 0.0110 - val_loss: 0.0197 - val_MSE: 0.0197\n",
      "Epoch 8/30\n",
      "57/57 [==============================] - 5s 80ms/step - loss: 0.0116 - MSE: 0.0116 - val_loss: 0.0191 - val_MSE: 0.0191\n",
      "Epoch 9/30\n",
      "57/57 [==============================] - 5s 81ms/step - loss: 0.0083 - MSE: 0.0083 - val_loss: 0.0128 - val_MSE: 0.0128\n",
      "Epoch 10/30\n",
      "57/57 [==============================] - 5s 81ms/step - loss: 0.0084 - MSE: 0.0084 - val_loss: 0.0107 - val_MSE: 0.0107\n",
      "Epoch 11/30\n",
      "57/57 [==============================] - 5s 80ms/step - loss: 0.0081 - MSE: 0.0081 - val_loss: 0.0118 - val_MSE: 0.0118\n",
      "Epoch 12/30\n",
      "57/57 [==============================] - 5s 80ms/step - loss: 0.0065 - MSE: 0.0065 - val_loss: 0.0110 - val_MSE: 0.0110\n",
      "Epoch 13/30\n",
      "57/57 [==============================] - 5s 80ms/step - loss: 0.0053 - MSE: 0.0053 - val_loss: 0.0097 - val_MSE: 0.0097\n",
      "Epoch 14/30\n",
      "57/57 [==============================] - 5s 80ms/step - loss: 0.0052 - MSE: 0.0052 - val_loss: 0.0113 - val_MSE: 0.0113\n",
      "Epoch 15/30\n",
      "57/57 [==============================] - 5s 80ms/step - loss: 0.0065 - MSE: 0.0065 - val_loss: 0.0175 - val_MSE: 0.0175\n",
      "Epoch 16/30\n",
      "57/57 [==============================] - 5s 81ms/step - loss: 0.0067 - MSE: 0.0067 - val_loss: 0.0133 - val_MSE: 0.0133\n",
      "Epoch 17/30\n",
      "57/57 [==============================] - 5s 81ms/step - loss: 0.0066 - MSE: 0.0066 - val_loss: 0.0107 - val_MSE: 0.0107\n",
      "Epoch 18/30\n",
      "57/57 [==============================] - 5s 80ms/step - loss: 0.0049 - MSE: 0.0049 - val_loss: 0.0141 - val_MSE: 0.0141\n",
      "Epoch 19/30\n",
      "57/57 [==============================] - 5s 80ms/step - loss: 0.0057 - MSE: 0.0057 - val_loss: 0.0111 - val_MSE: 0.0111\n",
      "Epoch 20/30\n",
      "57/57 [==============================] - 5s 81ms/step - loss: 0.0046 - MSE: 0.0046 - val_loss: 0.0099 - val_MSE: 0.0099\n",
      "Epoch 21/30\n",
      "57/57 [==============================] - 5s 80ms/step - loss: 0.0039 - MSE: 0.0039 - val_loss: 0.0087 - val_MSE: 0.0087\n",
      "Epoch 22/30\n",
      "57/57 [==============================] - 5s 80ms/step - loss: 0.0024 - MSE: 0.0024 - val_loss: 0.0087 - val_MSE: 0.0087\n",
      "Epoch 23/30\n",
      "57/57 [==============================] - 5s 80ms/step - loss: 0.0019 - MSE: 0.0019 - val_loss: 0.0111 - val_MSE: 0.0111\n",
      "Epoch 24/30\n",
      "57/57 [==============================] - 5s 80ms/step - loss: 0.0020 - MSE: 0.0020 - val_loss: 0.0105 - val_MSE: 0.0105\n",
      "Epoch 25/30\n",
      "57/57 [==============================] - 5s 81ms/step - loss: 0.0024 - MSE: 0.0024 - val_loss: 0.0093 - val_MSE: 0.0093\n",
      "Epoch 26/30\n",
      "57/57 [==============================] - 5s 80ms/step - loss: 0.0026 - MSE: 0.0026 - val_loss: 0.0087 - val_MSE: 0.0087\n",
      "Epoch 27/30\n",
      "57/57 [==============================] - 5s 80ms/step - loss: 0.0028 - MSE: 0.0028 - val_loss: 0.0090 - val_MSE: 0.0090\n",
      "Epoch 28/30\n",
      "57/57 [==============================] - 5s 80ms/step - loss: 0.0022 - MSE: 0.0022 - val_loss: 0.0087 - val_MSE: 0.0087\n",
      "Epoch 29/30\n",
      "57/57 [==============================] - 5s 81ms/step - loss: 0.0020 - MSE: 0.0020 - val_loss: 0.0141 - val_MSE: 0.0141\n",
      "Epoch 30/30\n",
      "57/57 [==============================] - 5s 80ms/step - loss: 0.0027 - MSE: 0.0027 - val_loss: 0.0132 - val_MSE: 0.0132\n",
      "36/36 [==============================] - 2s 46ms/step\n",
      "Prediction min:  -1.0260559  Prediction max:  1.1097745\n"
     ]
    }
   ],
   "source": [
    "model.compile(loss='mean_squared_error',\n",
    "              optimizer='adam',\n",
    "              metrics=['MSE'])\n",
    "\n",
    "\n",
    "model.fit([X, X1], Y, batch_size=16, shuffle=False, epochs=30, validation_split=0.2)\n",
    "\n",
    "predictions = model.predict([X,X1])\n",
    "print(\"Prediction min: \",predictions.min(),\" Prediction max: \",predictions.max())"
   ]
  },
  {
   "cell_type": "code",
   "execution_count": 8,
   "metadata": {},
   "outputs": [
    {
     "data": {
      "image/png": "[encoded data removed]",
      "text/plain": [
       "<Figure size 640x480 with 1 Axes>"
      ]
     },
     "metadata": {},
     "output_type": "display_data"
    }
   ],
   "source": [
    "# Let's check distribution of our labels \n",
    "from matplotlib import pyplot as plt\n",
    "\n",
    "frq, edges = np.histogram(Y, bins=20)\n",
    "fig, ax = plt.subplots()\n",
    "ax.bar(edges[:-1], frq, width=np.diff(edges), edgecolor=\"black\", align=\"edge\")\n",
    "\n",
    "plt.show()"
   ]
  },
  {
   "cell_type": "markdown",
   "metadata": {},
   "source": [
    "quite well distributed!\n",
    "\n",
    "Let's save the model and test it"
   ]
  },
  {
   "cell_type": "code",
   "execution_count": 9,
   "metadata": {},
   "outputs": [
    {
     "name": "stderr",
     "output_type": "stream",
     "text": [
      "WARNING:absl:Found untraced functions such as _jit_compiled_convolution_op, _jit_compiled_convolution_op, _jit_compiled_convolution_op, _update_step_xla while saving (showing 4 of 4). These functions will not be directly callable after loading.\n"
     ]
    },
    {
     "name": "stdout",
     "output_type": "stream",
     "text": [
      "INFO:tensorflow:Assets written to: GPS_Visual_Model_overfit/assets\n"
     ]
    },
    {
     "name": "stderr",
     "output_type": "stream",
     "text": [
      "INFO:tensorflow:Assets written to: GPS_Visual_Model_overfit/assets\n"
     ]
    }
   ],
   "source": [
    "# to save model\n",
    "model.save(\"GPS_Visual_Model_overfit\", overwrite=True,include_optimizer=True,\n",
    "    save_format=None, signatures=None, options=None, save_traces=True)"
   ]
  },
  {
   "cell_type": "markdown",
   "metadata": {},
   "source": [
    "The model shows poor performance. It seems like drunk.\n",
    "\n",
    "\n",
    "I need to collect more images(current : 1130) and balance those training set across steering angles."
   ]
  },
  {
   "cell_type": "markdown",
   "metadata": {},
   "source": [
    "### "
   ]
  },
  {
   "cell_type": "markdown",
   "metadata": {},
   "source": [
    "### Second attempt to train a model based on images generated\n",
    "- 2420 images\n",
    "- balanced image data(bin_size=0.05)"
   ]
  },
  {
   "cell_type": "code",
   "execution_count": null,
   "metadata": {},
   "outputs": [],
   "source": [
    "#constants to resize image to\n",
    "HEIGHT = 180\n",
    "WIDTH = 320\n",
    "\n",
    "YAW_ADJ_DEGREES = 35 # e.g. goes from -35 to +35\n",
    "\n",
    "#get a lsit of files\n",
    "mypath = '/home/winter/carla-ros-bridge/src/ros-bridge/learning_carla/GPS_and_CV/_img'\n",
    "images = [f.split('.png')[0] for f in os.listdir(mypath) if f.endswith(\".png\")]\n",
    "\n",
    "random.shuffle(images)"
   ]
  },
  {
   "cell_type": "code",
   "execution_count": 5,
   "metadata": {},
   "outputs": [],
   "source": [
    "def balance_array(bin_start,bin_end,bin_size):\n",
    "    '''\n",
    "    This function returns indicies of selected elements \n",
    "    which make the training set balanced\n",
    "    You need to apply the returned index to all training arrays  \n",
    "    '''\n",
    "    num_bins = int((bin_end - bin_start) / bin_size) + 1\n",
    "    min_count = np.min(np.histogram(Y, bins=num_bins, range=(bin_start, bin_end))[0])\n",
    "    balanced_array = []\n",
    "    selected = []\n",
    "\n",
    "    for start in np.arange(bin_start, bin_end, bin_size):\n",
    "        end = start + bin_size\n",
    "        indices = np.where((Y >= start) & (Y < end))[0]\n",
    "        #balanced_array.extend(Y[indices[:min_count]])\n",
    "        selected.extend(indices[:min_count])\n",
    "    return selected"
   ]
  },
  {
   "cell_type": "code",
   "execution_count": 6,
   "metadata": {},
   "outputs": [],
   "source": [
    "X = [] #images\n",
    "X1 = [] # gen direction\n",
    "Y = [] # expected steering for this image\n",
    "for example in images:\n",
    "    img_path = mypath+'/'+example+'.png'\n",
    "    image = cv2.imread(img_path,cv2.IMREAD_COLOR)\n",
    "    # option to make images smaller\n",
    "    image = cv2.resize(image, (WIDTH,HEIGHT))\n",
    "    \n",
    "    # y labels are taken from after 2nd '_' in file name\n",
    "    y = float(example.split('_')[2])\n",
    "    # convert to a fraction of 90 degrees so -1 is all the way left and + 1 is all the way right\n",
    "    if y >35:\n",
    "        y = 35\n",
    "    elif y<-35:\n",
    "        y = -35\n",
    "    \n",
    "    y = float(y)/YAW_ADJ_DEGREES # rescale to -1 to +1 so -1 is when max left 35degrees and +1 is +35deg\n",
    "    # a rough balancing by reducing number of zero steer examples\n",
    "    X.append(image / 255) # adding another dimension and normalising pixels to 0-1\n",
    "    # gen direction values are taken from after 1st '_' in file name\n",
    "    X1.append(int(example.split('_')[1]))\n",
    "    Y.append(y)"
   ]
  },
  {
   "cell_type": "code",
   "execution_count": 7,
   "metadata": {},
   "outputs": [],
   "source": [
    "#convert to numpy arrays\n",
    "X = np.array(X)\n",
    "X1 = np.array(X1)\n",
    "Y = np.array(Y)\n",
    "\n",
    "balanced_subset = balance_array(-0.5,0.5,0.05)\n",
    "\n",
    "X = X[balanced_subset]\n",
    "X1 = X1[balanced_subset]\n",
    "Y = Y[balanced_subset]"
   ]
  },
  {
   "cell_type": "code",
   "execution_count": 8,
   "metadata": {},
   "outputs": [
    {
     "name": "stdout",
     "output_type": "stream",
     "text": [
      "This is how training set is distributed:\n"
     ]
    },
    {
     "data": {
      "image/png": "[encoded data removed]",
      "text/plain": [
       "<Figure size 640x480 with 1 Axes>"
      ]
     },
     "metadata": {},
     "output_type": "display_data"
    }
   ],
   "source": [
    "# draw how Y is distributed befored going into training\n",
    "frq, edges = np.histogram(Y, bins=20)\n",
    "fig, ax = plt.subplots()\n",
    "ax.bar(edges[:-1], frq, width=np.diff(edges), edgecolor=\"black\", align=\"edge\")\n",
    "print('This is how training set is distributed:')\n",
    "plt.show()"
   ]
  },
  {
   "cell_type": "code",
   "execution_count": 9,
   "metadata": {},
   "outputs": [
    {
     "name": "stderr",
     "output_type": "stream",
     "text": [
      "2025-01-15 14:43:01.037646: I tensorflow/compiler/xla/stream_executor/cuda/cuda_gpu_executor.cc:967] could not open file to read NUMA node: /sys/bus/pci/devices/0000:03:00.0/numa_node\n",
      "Your kernel may have been built without NUMA support.\n",
      "2025-01-15 14:43:01.038176: W tensorflow/compiler/xla/stream_executor/platform/default/dso_loader.cc:64] Could not load dynamic library 'libcudart.so.11.0'; dlerror: libcudart.so.11.0: cannot open shared object file: No such file or directory; LD_LIBRARY_PATH: /home/winter/.pyenv/versions/3.7.17/envs/carla-0.9.13-py3.7/lib/python3.7/site-packages/cv2/../../lib64:/home/winter/carla-ros-bridge/install/rviz_carla_plugin/lib:/home/winter/carla-ros-bridge/install/carla_waypoint_types/lib:/home/winter/carla-ros-bridge/install/carla_ros_scenario_runner_types/lib:/home/winter/carla-ros-bridge/install/carla_ackermann_msgs/lib:/home/winter/carla-ros-bridge/install/carla_msgs/lib:/opt/ros/foxy/opt/yaml_cpp_vendor/lib:/opt/ros/foxy/opt/rviz_ogre_vendor/lib:/opt/ros/foxy/lib/x86_64-linux-gnu:/opt/ros/foxy/lib\n",
      "2025-01-15 14:43:01.038289: W tensorflow/compiler/xla/stream_executor/platform/default/dso_loader.cc:64] Could not load dynamic library 'libcublas.so.11'; dlerror: libcublas.so.11: cannot open shared object file: No such file or directory; LD_LIBRARY_PATH: /home/winter/.pyenv/versions/3.7.17/envs/carla-0.9.13-py3.7/lib/python3.7/site-packages/cv2/../../lib64:/home/winter/carla-ros-bridge/install/rviz_carla_plugin/lib:/home/winter/carla-ros-bridge/install/carla_waypoint_types/lib:/home/winter/carla-ros-bridge/install/carla_ros_scenario_runner_types/lib:/home/winter/carla-ros-bridge/install/carla_ackermann_msgs/lib:/home/winter/carla-ros-bridge/install/carla_msgs/lib:/opt/ros/foxy/opt/yaml_cpp_vendor/lib:/opt/ros/foxy/opt/rviz_ogre_vendor/lib:/opt/ros/foxy/lib/x86_64-linux-gnu:/opt/ros/foxy/lib\n",
      "2025-01-15 14:43:01.038360: W tensorflow/compiler/xla/stream_executor/platform/default/dso_loader.cc:64] Could not load dynamic library 'libcublasLt.so.11'; dlerror: libcublasLt.so.11: cannot open shared object file: No such file or directory; LD_LIBRARY_PATH: /home/winter/.pyenv/versions/3.7.17/envs/carla-0.9.13-py3.7/lib/python3.7/site-packages/cv2/../../lib64:/home/winter/carla-ros-bridge/install/rviz_carla_plugin/lib:/home/winter/carla-ros-bridge/install/carla_waypoint_types/lib:/home/winter/carla-ros-bridge/install/carla_ros_scenario_runner_types/lib:/home/winter/carla-ros-bridge/install/carla_ackermann_msgs/lib:/home/winter/carla-ros-bridge/install/carla_msgs/lib:/opt/ros/foxy/opt/yaml_cpp_vendor/lib:/opt/ros/foxy/opt/rviz_ogre_vendor/lib:/opt/ros/foxy/lib/x86_64-linux-gnu:/opt/ros/foxy/lib\n",
      "2025-01-15 14:43:01.038422: W tensorflow/compiler/xla/stream_executor/platform/default/dso_loader.cc:64] Could not load dynamic library 'libcufft.so.10'; dlerror: libcufft.so.10: cannot open shared object file: No such file or directory; LD_LIBRARY_PATH: /home/winter/.pyenv/versions/3.7.17/envs/carla-0.9.13-py3.7/lib/python3.7/site-packages/cv2/../../lib64:/home/winter/carla-ros-bridge/install/rviz_carla_plugin/lib:/home/winter/carla-ros-bridge/install/carla_waypoint_types/lib:/home/winter/carla-ros-bridge/install/carla_ros_scenario_runner_types/lib:/home/winter/carla-ros-bridge/install/carla_ackermann_msgs/lib:/home/winter/carla-ros-bridge/install/carla_msgs/lib:/opt/ros/foxy/opt/yaml_cpp_vendor/lib:/opt/ros/foxy/opt/rviz_ogre_vendor/lib:/opt/ros/foxy/lib/x86_64-linux-gnu:/opt/ros/foxy/lib\n",
      "2025-01-15 14:43:01.351275: W tensorflow/compiler/xla/stream_executor/platform/default/dso_loader.cc:64] Could not load dynamic library 'libcusparse.so.11'; dlerror: libcusparse.so.11: cannot open shared object file: No such file or directory; LD_LIBRARY_PATH: /home/winter/.pyenv/versions/3.7.17/envs/carla-0.9.13-py3.7/lib/python3.7/site-packages/cv2/../../lib64:/home/winter/carla-ros-bridge/install/rviz_carla_plugin/lib:/home/winter/carla-ros-bridge/install/carla_waypoint_types/lib:/home/winter/carla-ros-bridge/install/carla_ros_scenario_runner_types/lib:/home/winter/carla-ros-bridge/install/carla_ackermann_msgs/lib:/home/winter/carla-ros-bridge/install/carla_msgs/lib:/opt/ros/foxy/opt/yaml_cpp_vendor/lib:/opt/ros/foxy/opt/rviz_ogre_vendor/lib:/opt/ros/foxy/lib/x86_64-linux-gnu:/opt/ros/foxy/lib\n",
      "2025-01-15 14:43:01.351418: W tensorflow/compiler/xla/stream_executor/platform/default/dso_loader.cc:64] Could not load dynamic library 'libcudnn.so.8'; dlerror: libcudnn.so.8: cannot open shared object file: No such file or directory; LD_LIBRARY_PATH: /home/winter/.pyenv/versions/3.7.17/envs/carla-0.9.13-py3.7/lib/python3.7/site-packages/cv2/../../lib64:/home/winter/carla-ros-bridge/install/rviz_carla_plugin/lib:/home/winter/carla-ros-bridge/install/carla_waypoint_types/lib:/home/winter/carla-ros-bridge/install/carla_ros_scenario_runner_types/lib:/home/winter/carla-ros-bridge/install/carla_ackermann_msgs/lib:/home/winter/carla-ros-bridge/install/carla_msgs/lib:/opt/ros/foxy/opt/yaml_cpp_vendor/lib:/opt/ros/foxy/opt/rviz_ogre_vendor/lib:/opt/ros/foxy/lib/x86_64-linux-gnu:/opt/ros/foxy/lib\n",
      "2025-01-15 14:43:01.351560: W tensorflow/core/common_runtime/gpu/gpu_device.cc:1934] Cannot dlopen some GPU libraries. Please make sure the missing libraries mentioned above are installed properly if you would like to use GPU. Follow the guide at https://www.tensorflow.org/install/gpu for how to download and setup the required libraries for your platform.\n",
      "Skipping registering GPU devices...\n",
      "2025-01-15 14:43:01.353791: I tensorflow/core/platform/cpu_feature_guard.cc:193] This TensorFlow binary is optimized with oneAPI Deep Neural Network Library (oneDNN) to use the following CPU instructions in performance-critical operations:  AVX2 AVX512F AVX512_VNNI FMA\n",
      "To enable them in other operations, rebuild TensorFlow with the appropriate compiler flags.\n"
     ]
    },
    {
     "name": "stdout",
     "output_type": "stream",
     "text": [
      "Model: \"model\"\n",
      "__________________________________________________________________________________________________\n",
      " Layer (type)                   Output Shape         Param #     Connected to                     \n",
      "==================================================================================================\n",
      " input_1 (InputLayer)           [(None, 180, 320, 3  0           []                               \n",
      "                                )]                                                                \n",
      "                                                                                                  \n",
      " conv2d (Conv2D)                (None, 180, 320, 64  1792        ['input_1[0][0]']                \n",
      "                                )                                                                 \n",
      "                                                                                                  \n",
      " max_pooling2d (MaxPooling2D)   (None, 90, 160, 64)  0           ['conv2d[0][0]']                 \n",
      "                                                                                                  \n",
      " conv2d_1 (Conv2D)              (None, 90, 160, 64)  36928       ['max_pooling2d[0][0]']          \n",
      "                                                                                                  \n",
      " max_pooling2d_1 (MaxPooling2D)  (None, 45, 80, 64)  0           ['conv2d_1[0][0]']               \n",
      "                                                                                                  \n",
      " conv2d_2 (Conv2D)              (None, 45, 80, 64)   36928       ['max_pooling2d_1[0][0]']        \n",
      "                                                                                                  \n",
      " max_pooling2d_2 (MaxPooling2D)  (None, 22, 40, 64)  0           ['conv2d_2[0][0]']               \n",
      "                                                                                                  \n",
      " flatten (Flatten)              (None, 56320)        0           ['max_pooling2d_2[0][0]']        \n",
      "                                                                                                  \n",
      " input_2 (InputLayer)           [(None, 1)]          0           []                               \n",
      "                                                                                                  \n",
      " concatenate (Concatenate)      (None, 56321)        0           ['flatten[0][0]',                \n",
      "                                                                  'input_2[0][0]']                \n",
      "                                                                                                  \n",
      " dense (Dense)                  (None, 64)           3604608     ['concatenate[0][0]']            \n",
      "                                                                                                  \n",
      " dense_1 (Dense)                (None, 1)            65          ['dense[0][0]']                  \n",
      "                                                                                                  \n",
      "==================================================================================================\n",
      "Total params: 3,680,321\n",
      "Trainable params: 3,680,321\n",
      "Non-trainable params: 0\n",
      "__________________________________________________________________________________________________\n"
     ]
    }
   ],
   "source": [
    "def create_model():\n",
    "    # Image input\n",
    "    image_input = Input(shape=(HEIGHT, WIDTH, 3))\n",
    "    # Integer input\n",
    "    integer_input = Input(shape=(1,))\n",
    "    \n",
    "    # Preprocess the image input\n",
    "    processed_image = Conv2D(64, kernel_size=(3, 3), activation='relu',padding='same')(image_input)\n",
    "    processed_image = MaxPooling2D(pool_size=(2, 2))(processed_image)\n",
    "\n",
    "    processed_image = Conv2D(64, kernel_size=(3, 3), activation='relu',padding='same')(processed_image)\n",
    "    processed_image = MaxPooling2D(pool_size=(2, 2))(processed_image)\n",
    "\n",
    "    processed_image = Conv2D(64, kernel_size=(3, 3), activation='relu',padding='same')(processed_image)\n",
    "    processed_image = MaxPooling2D(pool_size=(2, 2))(processed_image)\n",
    "\n",
    "    processed_image = Flatten()(processed_image)\n",
    "    \n",
    "    # Concatenate image features with integer input\n",
    "    concatenated_inputs = Concatenate()([processed_image, integer_input])\n",
    "    \n",
    "    # Dense layers for prediction\n",
    "    x = Dense(64, activation='relu')(concatenated_inputs)\n",
    "    output = Dense(1, activation='linear')(x)\n",
    "    \n",
    "    # Create the model\n",
    "    model = Model(inputs=[image_input, integer_input], outputs=output)\n",
    "    \n",
    "    return model\n",
    "\n",
    "model = create_model()\n",
    "\n",
    "model.summary()"
   ]
  },
  {
   "cell_type": "code",
   "execution_count": 10,
   "metadata": {},
   "outputs": [
    {
     "name": "stdout",
     "output_type": "stream",
     "text": [
      "Epoch 1/10\n",
      "43/43 [==============================] - 21s 415ms/step - loss: 2.0003 - MSE: 2.0003 - val_loss: 0.0087 - val_MSE: 0.0087\n",
      "Epoch 2/10\n",
      "43/43 [==============================] - 16s 379ms/step - loss: 0.0773 - MSE: 0.0773 - val_loss: 0.1486 - val_MSE: 0.1486\n",
      "Epoch 3/10\n",
      "43/43 [==============================] - 17s 386ms/step - loss: 0.0674 - MSE: 0.0674 - val_loss: 0.1713 - val_MSE: 0.1713\n",
      "Epoch 4/10\n",
      "43/43 [==============================] - 17s 390ms/step - loss: 0.0621 - MSE: 0.0621 - val_loss: 0.1817 - val_MSE: 0.1817\n",
      "Epoch 5/10\n",
      "43/43 [==============================] - 17s 389ms/step - loss: 0.0563 - MSE: 0.0563 - val_loss: 0.1890 - val_MSE: 0.1890\n",
      "Epoch 6/10\n",
      "43/43 [==============================] - 17s 388ms/step - loss: 0.0097 - MSE: 0.0097 - val_loss: 0.0172 - val_MSE: 0.0172\n",
      "Epoch 7/10\n",
      "43/43 [==============================] - 16s 374ms/step - loss: 0.0707 - MSE: 0.0707 - val_loss: 0.0380 - val_MSE: 0.0380\n",
      "Epoch 8/10\n",
      "43/43 [==============================] - 16s 373ms/step - loss: 0.0811 - MSE: 0.0811 - val_loss: 0.1886 - val_MSE: 0.1886\n",
      "Epoch 9/10\n",
      "43/43 [==============================] - 16s 364ms/step - loss: 0.0349 - MSE: 0.0349 - val_loss: 0.1408 - val_MSE: 0.1408\n",
      "Epoch 10/10\n",
      "43/43 [==============================] - 14s 328ms/step - loss: 0.0432 - MSE: 0.0432 - val_loss: 0.0065 - val_MSE: 0.0065\n",
      "27/27 [==============================] - 5s 180ms/step\n",
      "Prediction min:  0.30781674  Prediction max:  0.3841688\n"
     ]
    }
   ],
   "source": [
    "model.compile(loss='MSE',\n",
    "              optimizer='adam',\n",
    "              metrics=['MSE'])\n",
    "\n",
    "\n",
    "model.fit([X, X1], Y, batch_size=16, shuffle=False, epochs=10, validation_split=0.2)\n",
    "\n",
    "predictions = model.predict([X,X1])\n",
    "print(\"Prediction min: \",predictions.min(),\" Prediction max: \",predictions.max())"
   ]
  },
  {
   "cell_type": "code",
   "execution_count": 11,
   "metadata": {},
   "outputs": [
    {
     "name": "stderr",
     "output_type": "stream",
     "text": [
      "WARNING:absl:Found untraced functions such as _jit_compiled_convolution_op, _jit_compiled_convolution_op, _jit_compiled_convolution_op, _update_step_xla while saving (showing 4 of 4). These functions will not be directly callable after loading.\n"
     ]
    },
    {
     "name": "stdout",
     "output_type": "stream",
     "text": [
      "INFO:tensorflow:Assets written to: GPS_Visual_Model_balanced/assets\n"
     ]
    },
    {
     "name": "stderr",
     "output_type": "stream",
     "text": [
      "INFO:tensorflow:Assets written to: GPS_Visual_Model_balanced/assets\n"
     ]
    }
   ],
   "source": [
    "# to save model\n",
    "model.save(\"GPS_Visual_Model_biased\", overwrite=True,include_optimizer=True,\n",
    "    save_format=None, signatures=None, options=None, save_traces=True)"
   ]
  },
  {
   "cell_type": "markdown",
   "metadata": {},
   "source": [
    "too small min_count in balanced array bring about data loss.\n",
    "\n",
    "This may causes the biased car to the right-hand side"
   ]
  },
  {
   "cell_type": "markdown",
   "metadata": {},
   "source": [
    "### Third attempt to train a model based on images generated\n",
    "- 3350 images\n",
    "- balanced image data(bin_size=0.3)\n",
    "- regularize between -1 and 1"
   ]
  },
  {
   "cell_type": "code",
   "execution_count": 2,
   "metadata": {},
   "outputs": [],
   "source": [
    "#constants to resize image to\n",
    "HEIGHT = 180\n",
    "WIDTH = 320\n",
    "\n",
    "YAW_ADJ_DEGREES = 35 # e.g. goes from -35 to +35\n",
    "\n",
    "#get a lsit of files\n",
    "mypath = '/home/winter/carla-ros-bridge/src/ros-bridge/learning_carla/GPS_and_CV/_img'\n",
    "images = [f.split('.png')[0] for f in os.listdir(mypath) if f.endswith(\".png\")]\n",
    "\n",
    "random.shuffle(images)"
   ]
  },
  {
   "cell_type": "code",
   "execution_count": 3,
   "metadata": {},
   "outputs": [],
   "source": [
    "def balance_array(bin_start,bin_end,bin_size):\n",
    "    '''\n",
    "    This function returns indicies of selected elements \n",
    "    which make the training set balanced\n",
    "    You need to apply the returned index to all training arrays  \n",
    "    '''\n",
    "    num_bins = int((bin_end - bin_start) / bin_size) + 1\n",
    "    min_count = np.min(np.histogram(Y, bins=num_bins, range=(bin_start, bin_end))[0])\n",
    "    balanced_array = []\n",
    "    selected = []\n",
    "\n",
    "    for start in np.arange(bin_start, bin_end, bin_size):\n",
    "        end = start + bin_size\n",
    "        indices = np.where((Y >= start) & (Y < end))[0]\n",
    "        #balanced_array.extend(Y[indices[:min_count]])\n",
    "        selected.extend(indices[:min_count])\n",
    "    return selected"
   ]
  },
  {
   "cell_type": "code",
   "execution_count": 4,
   "metadata": {},
   "outputs": [],
   "source": [
    "X = [] #images\n",
    "X1 = [] # gen direction\n",
    "Y = [] #expected steering for this image\n",
    "for example in images:\n",
    "    img_path = mypath+'/'+example+'.png'\n",
    "    image = cv2.imread(img_path,cv2.IMREAD_COLOR)\n",
    "    # option to make images smaller\n",
    "    image = cv2.resize(image, (WIDTH,HEIGHT))\n",
    "    \n",
    "    # y labels are taken from after 2nd '_' in file name\n",
    "    y = float(example.split('_')[2])\n",
    "    # convert to a fraction of 90 degrees so -1 is all the way left and + 1 is all the way right\n",
    "    if y >35:\n",
    "        y = 35\n",
    "    elif y<-35:\n",
    "        y = -35\n",
    "    \n",
    "    y = float(y)/YAW_ADJ_DEGREES # rescale to -1 to +1 so -1 is when max left 35degrees and +1 is +35deg\n",
    "    X.append(image / 255) # adding another dimension and normalising pixels to 0-1\n",
    "    # gen direction values are taken from after 1st '_' in file name\n",
    "    X1.append(int(example.split('_')[1]))\n",
    "    Y.append(y)"
   ]
  },
  {
   "cell_type": "code",
   "execution_count": 5,
   "metadata": {},
   "outputs": [],
   "source": [
    "#convert to numpy arrays\n",
    "X = np.array(X)\n",
    "X1 = np.array(X1)\n",
    "Y = np.array(Y)\n",
    "\n",
    "balanced_subset = balance_array(-0.5,0.5,0.3) # too small min_count may affect data loss\n",
    "\n",
    "X = X[balanced_subset]\n",
    "X1 = X1[balanced_subset]\n",
    "Y = Y[balanced_subset]"
   ]
  },
  {
   "cell_type": "code",
   "execution_count": 6,
   "metadata": {},
   "outputs": [
    {
     "name": "stdout",
     "output_type": "stream",
     "text": [
      "This is how training set is distributed:\n"
     ]
    },
    {
     "data": {
      "image/png": "[encoded data removed]",
      "text/plain": [
       "<Figure size 640x480 with 1 Axes>"
      ]
     },
     "metadata": {},
     "output_type": "display_data"
    }
   ],
   "source": [
    "# draw how Y is distributed befored going into training\n",
    "frq, edges = np.histogram(Y, bins=20)\n",
    "fig, ax = plt.subplots()\n",
    "ax.bar(edges[:-1], frq, width=np.diff(edges), edgecolor=\"black\", align=\"edge\")\n",
    "print('This is how training set is distributed:')\n",
    "plt.show()"
   ]
  },
  {
   "cell_type": "code",
   "execution_count": 7,
   "metadata": {},
   "outputs": [
    {
     "name": "stderr",
     "output_type": "stream",
     "text": [
      "2025-01-16 09:28:51.914598: I tensorflow/compiler/xla/stream_executor/cuda/cuda_gpu_executor.cc:967] could not open file to read NUMA node: /sys/bus/pci/devices/0000:03:00.0/numa_node\n",
      "Your kernel may have been built without NUMA support.\n",
      "2025-01-16 09:28:51.914842: W tensorflow/compiler/xla/stream_executor/platform/default/dso_loader.cc:64] Could not load dynamic library 'libcudart.so.11.0'; dlerror: libcudart.so.11.0: cannot open shared object file: No such file or directory; LD_LIBRARY_PATH: /home/winter/.pyenv/versions/3.7.17/envs/carla-0.9.13-py3.7/lib/python3.7/site-packages/cv2/../../lib64:/home/winter/carla-ros-bridge/install/rviz_carla_plugin/lib:/home/winter/carla-ros-bridge/install/carla_waypoint_types/lib:/home/winter/carla-ros-bridge/install/carla_ros_scenario_runner_types/lib:/home/winter/carla-ros-bridge/install/carla_ackermann_msgs/lib:/home/winter/carla-ros-bridge/install/carla_msgs/lib:/opt/ros/foxy/opt/yaml_cpp_vendor/lib:/opt/ros/foxy/opt/rviz_ogre_vendor/lib:/opt/ros/foxy/lib/x86_64-linux-gnu:/opt/ros/foxy/lib\n",
      "2025-01-16 09:28:51.914990: W tensorflow/compiler/xla/stream_executor/platform/default/dso_loader.cc:64] Could not load dynamic library 'libcublas.so.11'; dlerror: libcublas.so.11: cannot open shared object file: No such file or directory; LD_LIBRARY_PATH: /home/winter/.pyenv/versions/3.7.17/envs/carla-0.9.13-py3.7/lib/python3.7/site-packages/cv2/../../lib64:/home/winter/carla-ros-bridge/install/rviz_carla_plugin/lib:/home/winter/carla-ros-bridge/install/carla_waypoint_types/lib:/home/winter/carla-ros-bridge/install/carla_ros_scenario_runner_types/lib:/home/winter/carla-ros-bridge/install/carla_ackermann_msgs/lib:/home/winter/carla-ros-bridge/install/carla_msgs/lib:/opt/ros/foxy/opt/yaml_cpp_vendor/lib:/opt/ros/foxy/opt/rviz_ogre_vendor/lib:/opt/ros/foxy/lib/x86_64-linux-gnu:/opt/ros/foxy/lib\n",
      "2025-01-16 09:28:51.915075: W tensorflow/compiler/xla/stream_executor/platform/default/dso_loader.cc:64] Could not load dynamic library 'libcublasLt.so.11'; dlerror: libcublasLt.so.11: cannot open shared object file: No such file or directory; LD_LIBRARY_PATH: /home/winter/.pyenv/versions/3.7.17/envs/carla-0.9.13-py3.7/lib/python3.7/site-packages/cv2/../../lib64:/home/winter/carla-ros-bridge/install/rviz_carla_plugin/lib:/home/winter/carla-ros-bridge/install/carla_waypoint_types/lib:/home/winter/carla-ros-bridge/install/carla_ros_scenario_runner_types/lib:/home/winter/carla-ros-bridge/install/carla_ackermann_msgs/lib:/home/winter/carla-ros-bridge/install/carla_msgs/lib:/opt/ros/foxy/opt/yaml_cpp_vendor/lib:/opt/ros/foxy/opt/rviz_ogre_vendor/lib:/opt/ros/foxy/lib/x86_64-linux-gnu:/opt/ros/foxy/lib\n",
      "2025-01-16 09:28:51.915129: W tensorflow/compiler/xla/stream_executor/platform/default/dso_loader.cc:64] Could not load dynamic library 'libcufft.so.10'; dlerror: libcufft.so.10: cannot open shared object file: No such file or directory; LD_LIBRARY_PATH: /home/winter/.pyenv/versions/3.7.17/envs/carla-0.9.13-py3.7/lib/python3.7/site-packages/cv2/../../lib64:/home/winter/carla-ros-bridge/install/rviz_carla_plugin/lib:/home/winter/carla-ros-bridge/install/carla_waypoint_types/lib:/home/winter/carla-ros-bridge/install/carla_ros_scenario_runner_types/lib:/home/winter/carla-ros-bridge/install/carla_ackermann_msgs/lib:/home/winter/carla-ros-bridge/install/carla_msgs/lib:/opt/ros/foxy/opt/yaml_cpp_vendor/lib:/opt/ros/foxy/opt/rviz_ogre_vendor/lib:/opt/ros/foxy/lib/x86_64-linux-gnu:/opt/ros/foxy/lib\n",
      "2025-01-16 09:28:52.143221: W tensorflow/compiler/xla/stream_executor/platform/default/dso_loader.cc:64] Could not load dynamic library 'libcusparse.so.11'; dlerror: libcusparse.so.11: cannot open shared object file: No such file or directory; LD_LIBRARY_PATH: /home/winter/.pyenv/versions/3.7.17/envs/carla-0.9.13-py3.7/lib/python3.7/site-packages/cv2/../../lib64:/home/winter/carla-ros-bridge/install/rviz_carla_plugin/lib:/home/winter/carla-ros-bridge/install/carla_waypoint_types/lib:/home/winter/carla-ros-bridge/install/carla_ros_scenario_runner_types/lib:/home/winter/carla-ros-bridge/install/carla_ackermann_msgs/lib:/home/winter/carla-ros-bridge/install/carla_msgs/lib:/opt/ros/foxy/opt/yaml_cpp_vendor/lib:/opt/ros/foxy/opt/rviz_ogre_vendor/lib:/opt/ros/foxy/lib/x86_64-linux-gnu:/opt/ros/foxy/lib\n",
      "2025-01-16 09:28:52.143320: W tensorflow/compiler/xla/stream_executor/platform/default/dso_loader.cc:64] Could not load dynamic library 'libcudnn.so.8'; dlerror: libcudnn.so.8: cannot open shared object file: No such file or directory; LD_LIBRARY_PATH: /home/winter/.pyenv/versions/3.7.17/envs/carla-0.9.13-py3.7/lib/python3.7/site-packages/cv2/../../lib64:/home/winter/carla-ros-bridge/install/rviz_carla_plugin/lib:/home/winter/carla-ros-bridge/install/carla_waypoint_types/lib:/home/winter/carla-ros-bridge/install/carla_ros_scenario_runner_types/lib:/home/winter/carla-ros-bridge/install/carla_ackermann_msgs/lib:/home/winter/carla-ros-bridge/install/carla_msgs/lib:/opt/ros/foxy/opt/yaml_cpp_vendor/lib:/opt/ros/foxy/opt/rviz_ogre_vendor/lib:/opt/ros/foxy/lib/x86_64-linux-gnu:/opt/ros/foxy/lib\n",
      "2025-01-16 09:28:52.143333: W tensorflow/core/common_runtime/gpu/gpu_device.cc:1934] Cannot dlopen some GPU libraries. Please make sure the missing libraries mentioned above are installed properly if you would like to use GPU. Follow the guide at https://www.tensorflow.org/install/gpu for how to download and setup the required libraries for your platform.\n",
      "Skipping registering GPU devices...\n",
      "2025-01-16 09:28:52.145142: I tensorflow/core/platform/cpu_feature_guard.cc:193] This TensorFlow binary is optimized with oneAPI Deep Neural Network Library (oneDNN) to use the following CPU instructions in performance-critical operations:  AVX2 AVX512F AVX512_VNNI FMA\n",
      "To enable them in other operations, rebuild TensorFlow with the appropriate compiler flags.\n"
     ]
    },
    {
     "name": "stdout",
     "output_type": "stream",
     "text": [
      "Model: \"model\"\n",
      "__________________________________________________________________________________________________\n",
      " Layer (type)                   Output Shape         Param #     Connected to                     \n",
      "==================================================================================================\n",
      " input_1 (InputLayer)           [(None, 180, 320, 3  0           []                               \n",
      "                                )]                                                                \n",
      "                                                                                                  \n",
      " conv2d (Conv2D)                (None, 180, 320, 64  1792        ['input_1[0][0]']                \n",
      "                                )                                                                 \n",
      "                                                                                                  \n",
      " max_pooling2d (MaxPooling2D)   (None, 90, 160, 64)  0           ['conv2d[0][0]']                 \n",
      "                                                                                                  \n",
      " conv2d_1 (Conv2D)              (None, 90, 160, 64)  36928       ['max_pooling2d[0][0]']          \n",
      "                                                                                                  \n",
      " max_pooling2d_1 (MaxPooling2D)  (None, 45, 80, 64)  0           ['conv2d_1[0][0]']               \n",
      "                                                                                                  \n",
      " conv2d_2 (Conv2D)              (None, 45, 80, 64)   36928       ['max_pooling2d_1[0][0]']        \n",
      "                                                                                                  \n",
      " max_pooling2d_2 (MaxPooling2D)  (None, 22, 40, 64)  0           ['conv2d_2[0][0]']               \n",
      "                                                                                                  \n",
      " dense (Dense)                  (None, 22, 40, 128)  8320        ['max_pooling2d_2[0][0]']        \n",
      "                                                                                                  \n",
      " dense_1 (Dense)                (None, 22, 40, 32)   4128        ['dense[0][0]']                  \n",
      "                                                                                                  \n",
      " dense_2 (Dense)                (None, 22, 40, 4)    132         ['dense_1[0][0]']                \n",
      "                                                                                                  \n",
      " flatten (Flatten)              (None, 3520)         0           ['dense_2[0][0]']                \n",
      "                                                                                                  \n",
      " input_2 (InputLayer)           [(None, 1)]          0           []                               \n",
      "                                                                                                  \n",
      " concatenate (Concatenate)      (None, 3521)         0           ['flatten[0][0]',                \n",
      "                                                                  'input_2[0][0]']                \n",
      "                                                                                                  \n",
      " dense_3 (Dense)                (None, 1)            3522        ['concatenate[0][0]']            \n",
      "                                                                                                  \n",
      "==================================================================================================\n",
      "Total params: 91,750\n",
      "Trainable params: 91,750\n",
      "Non-trainable params: 0\n",
      "__________________________________________________________________________________________________\n"
     ]
    }
   ],
   "source": [
    "from keras import regularizers\n",
    "def create_model():\n",
    "    # Image input\n",
    "    image_input = Input(shape=(HEIGHT, WIDTH, 3))\n",
    "    # Integer input\n",
    "    integer_input = Input(shape=(1,))\n",
    "    # Preprocess the image input\n",
    "    x = Conv2D(64, kernel_size=(3, 3), activation='relu',padding='same',activity_regularizer=regularizers.L2(1e-5))(image_input)\n",
    "    x = MaxPooling2D(pool_size=(2, 2))(x)\n",
    "    x = Conv2D(64, kernel_size=(3, 3), activation='relu',padding='same',activity_regularizer=regularizers.L2(1e-5))(x)\n",
    "    x = MaxPooling2D(pool_size=(2, 2))(x)\n",
    "    x = Conv2D(64, kernel_size=(3, 3), activation='relu',padding='same',activity_regularizer=regularizers.L2(1e-5))(x)\n",
    "    x = MaxPooling2D(pool_size=(2, 2))(x)\n",
    "    x = Dense(128, activation='relu',activity_regularizer=regularizers.L2(1e-5))(x)\n",
    "    x = Dense(32, activation='relu',activity_regularizer=regularizers.L2(1e-5))(x)\n",
    "    x = Dense(4, activation='relu',activity_regularizer=regularizers.L2(1e-5))(x)\n",
    "    x = Flatten()(x)\n",
    "    # Concatenate image features with integer input\n",
    "    concatenated_inputs = Concatenate()([x, integer_input])\n",
    "    # Dense layers for prediction\n",
    "    output = Dense(1, activation='linear')(concatenated_inputs)\n",
    "    # Create the model\n",
    "    model = Model(inputs=[image_input, integer_input], outputs=output)\n",
    "    return model\n",
    "\n",
    "model = create_model()\n",
    "\n",
    "model.summary()"
   ]
  },
  {
   "cell_type": "code",
   "execution_count": 8,
   "metadata": {},
   "outputs": [
    {
     "name": "stdout",
     "output_type": "stream",
     "text": [
      "Epoch 1/10\n",
      "52/52 [==============================] - 35s 658ms/step - loss: 0.0530 - val_loss: 0.0101\n",
      "Epoch 2/10\n",
      "52/52 [==============================] - 34s 655ms/step - loss: 0.1268 - val_loss: 0.2960\n",
      "Epoch 3/10\n",
      "52/52 [==============================] - 34s 653ms/step - loss: 0.0817 - val_loss: 0.2914\n",
      "Epoch 4/10\n",
      "52/52 [==============================] - 35s 668ms/step - loss: 0.0809 - val_loss: 0.2878\n",
      "Epoch 5/10\n",
      "52/52 [==============================] - 34s 654ms/step - loss: 0.0804 - val_loss: 0.2848\n",
      "Epoch 6/10\n",
      "52/52 [==============================] - 33s 643ms/step - loss: 0.0801 - val_loss: 0.2824\n",
      "Epoch 7/10\n",
      "52/52 [==============================] - 33s 643ms/step - loss: 0.0800 - val_loss: 0.2803\n",
      "Epoch 8/10\n",
      "52/52 [==============================] - 34s 646ms/step - loss: 0.0799 - val_loss: 0.2786\n",
      "Epoch 9/10\n",
      "52/52 [==============================] - 34s 647ms/step - loss: 0.0799 - val_loss: 0.2772\n",
      "Epoch 10/10\n",
      "52/52 [==============================] - 33s 640ms/step - loss: 0.0799 - val_loss: 0.2760\n",
      "64/64 [==============================] - 11s 165ms/step\n",
      "Prediction min:  -0.08238703  Prediction max:  0.0892338\n"
     ]
    }
   ],
   "source": [
    "model.compile(loss='MSE', optimizer='adam')\n",
    "model.fit([X, X1], Y, batch_size=32, shuffle=False, epochs=10, validation_split=0.2, workers=6, use_multiprocessing=False)\n",
    "\n",
    "predictions = model.predict([X,X1], batch_size=32)\n",
    "print(\"Prediction min: \",predictions.min(),\" Prediction max: \",predictions.max())"
   ]
  },
  {
   "cell_type": "code",
   "execution_count": 9,
   "metadata": {},
   "outputs": [
    {
     "name": "stdout",
     "output_type": "stream",
     "text": [
      "This is how predictions are distributed:\n"
     ]
    },
    {
     "data": {
      "image/png": "[encoded data removed]",
      "text/plain": [
       "<Figure size 640x480 with 1 Axes>"
      ]
     },
     "metadata": {},
     "output_type": "display_data"
    }
   ],
   "source": [
    "# draw how Predictions are distributed \n",
    "frq, edges = np.histogram(predictions, bins=20)\n",
    "fig, ax = plt.subplots()\n",
    "ax.bar(edges[:-1], frq, width=np.diff(edges), edgecolor=\"black\", align=\"edge\")\n",
    "print('This is how predictions are distributed:')\n",
    "plt.show()"
   ]
  },
  {
   "cell_type": "markdown",
   "metadata": {},
   "source": [
    "Cool! This model is trained to predict the steering degree relatively equally.\n",
    "\n",
    "The test result is also not bad, but I don't think that that's enough. We need to collect more huge data"
   ]
  },
  {
   "cell_type": "code",
   "execution_count": 10,
   "metadata": {},
   "outputs": [
    {
     "name": "stderr",
     "output_type": "stream",
     "text": [
      "WARNING:absl:Found untraced functions such as _jit_compiled_convolution_op, _jit_compiled_convolution_op, _jit_compiled_convolution_op, _update_step_xla while saving (showing 4 of 4). These functions will not be directly callable after loading.\n"
     ]
    },
    {
     "name": "stdout",
     "output_type": "stream",
     "text": [
      "INFO:tensorflow:Assets written to: GPS_Visual_Model_balanced/assets\n"
     ]
    },
    {
     "name": "stderr",
     "output_type": "stream",
     "text": [
      "INFO:tensorflow:Assets written to: GPS_Visual_Model_balanced/assets\n"
     ]
    }
   ],
   "source": [
    "# to save model\n",
    "model.save(\"GPS_Visual_Model_balanced\", overwrite=True,include_optimizer=True,\n",
    "    save_format=None, signatures=None, options=None, save_traces=True)"
   ]
  },
  {
   "cell_type": "markdown",
   "metadata": {},
   "source": [
    "### Fourth attempt same as third CV algorithm\n",
    "- maintain CNN logic\n",
    "- only difference is data collecting process"
   ]
  },
  {
   "cell_type": "code",
   "execution_count": 11,
   "metadata": {},
   "outputs": [],
   "source": [
    "#constants to resize image to\n",
    "HEIGHT = 180\n",
    "WIDTH = 320\n",
    "\n",
    "YAW_ADJ_DEGREES = 35 # e.g. goes from -35 to +35\n",
    "\n",
    "#get a lsit of files\n",
    "mypath = '/home/winter/carla-ros-bridge/src/ros-bridge/learning_carla/GPS_and_CV/_img'\n",
    "images = [f.split('.png')[0] for f in os.listdir(mypath) if f.endswith(\".png\")]\n",
    "\n",
    "random.shuffle(images)"
   ]
  },
  {
   "cell_type": "code",
   "execution_count": 12,
   "metadata": {},
   "outputs": [],
   "source": [
    "def balance_array(bin_start,bin_end,bin_size):\n",
    "    '''\n",
    "    This function returns indicies of selected elements \n",
    "    which make the training set balanced\n",
    "    You need to apply the returned index to all training arrays  \n",
    "    '''\n",
    "    num_bins = int((bin_end - bin_start) / bin_size) + 1\n",
    "    min_count = np.min(np.histogram(Y, bins=num_bins, range=(bin_start, bin_end))[0])\n",
    "    balanced_array = []\n",
    "    selected = []\n",
    "\n",
    "    for start in np.arange(bin_start, bin_end, bin_size):\n",
    "        end = start + bin_size\n",
    "        indices = np.where((Y >= start) & (Y < end))[0]\n",
    "        #balanced_array.extend(Y[indices[:min_count]])\n",
    "        selected.extend(indices[:min_count])\n",
    "    return selected"
   ]
  },
  {
   "cell_type": "code",
   "execution_count": 13,
   "metadata": {},
   "outputs": [],
   "source": [
    "X = [] #images\n",
    "X1 = [] # gen direction\n",
    "Y = [] #expected steering for this image\n",
    "for example in images:\n",
    "    img_path = mypath+'/'+example+'.png'\n",
    "    image = cv2.imread(img_path,cv2.IMREAD_COLOR)\n",
    "    # option to make images smaller\n",
    "    image = cv2.resize(image, (WIDTH,HEIGHT))\n",
    "    \n",
    "    # y labels are taken from after 2nd '_' in file name\n",
    "    y = float(example.split('_')[2])\n",
    "    # convert to a fraction of 90 degrees so -1 is all the way left and + 1 is all the way right\n",
    "    if y >35:\n",
    "        y = 35\n",
    "    elif y<-35:\n",
    "        y = -35\n",
    "    \n",
    "    y = float(y)/YAW_ADJ_DEGREES # rescale to -1 to +1 so -1 is when max left 35degrees and +1 is +35deg\n",
    "    X.append(image / 255) # adding another dimension and normalising pixels to 0-1\n",
    "    # gen direction values are taken from after 1st '_' in file name\n",
    "    X1.append(int(example.split('_')[1]))\n",
    "    Y.append(y)"
   ]
  },
  {
   "cell_type": "code",
   "execution_count": 14,
   "metadata": {},
   "outputs": [],
   "source": [
    "#convert to numpy arrays\n",
    "X = np.array(X)\n",
    "X1 = np.array(X1)\n",
    "Y = np.array(Y)\n",
    "\n",
    "balanced_subset = balance_array(-0.5,0.5,0.2) # too small min_count may affect data loss\n",
    "\n",
    "X = X[balanced_subset]\n",
    "X1 = X1[balanced_subset]\n",
    "Y = Y[balanced_subset]"
   ]
  },
  {
   "cell_type": "code",
   "execution_count": 15,
   "metadata": {},
   "outputs": [
    {
     "name": "stdout",
     "output_type": "stream",
     "text": [
      "This is how training set is distributed:\n"
     ]
    },
    {
     "data": {
      "image/png": "[encoded data removed]",
      "text/plain": [
       "<Figure size 640x480 with 1 Axes>"
      ]
     },
     "metadata": {},
     "output_type": "display_data"
    }
   ],
   "source": [
    "# draw how Y is distributed befored going into training\n",
    "frq, edges = np.histogram(Y, bins=20)\n",
    "fig, ax = plt.subplots()\n",
    "ax.bar(edges[:-1], frq, width=np.diff(edges), edgecolor=\"black\", align=\"edge\")\n",
    "print('This is how training set is distributed:')\n",
    "plt.show()"
   ]
  },
  {
   "cell_type": "code",
   "execution_count": 16,
   "metadata": {},
   "outputs": [
    {
     "name": "stdout",
     "output_type": "stream",
     "text": [
      "Model: \"model_1\"\n",
      "__________________________________________________________________________________________________\n",
      " Layer (type)                   Output Shape         Param #     Connected to                     \n",
      "==================================================================================================\n",
      " input_3 (InputLayer)           [(None, 180, 320, 3  0           []                               \n",
      "                                )]                                                                \n",
      "                                                                                                  \n",
      " conv2d_3 (Conv2D)              (None, 180, 320, 64  1792        ['input_3[0][0]']                \n",
      "                                )                                                                 \n",
      "                                                                                                  \n",
      " max_pooling2d_3 (MaxPooling2D)  (None, 90, 160, 64)  0          ['conv2d_3[0][0]']               \n",
      "                                                                                                  \n",
      " conv2d_4 (Conv2D)              (None, 90, 160, 64)  36928       ['max_pooling2d_3[0][0]']        \n",
      "                                                                                                  \n",
      " max_pooling2d_4 (MaxPooling2D)  (None, 45, 80, 64)  0           ['conv2d_4[0][0]']               \n",
      "                                                                                                  \n",
      " conv2d_5 (Conv2D)              (None, 45, 80, 64)   36928       ['max_pooling2d_4[0][0]']        \n",
      "                                                                                                  \n",
      " max_pooling2d_5 (MaxPooling2D)  (None, 22, 40, 64)  0           ['conv2d_5[0][0]']               \n",
      "                                                                                                  \n",
      " dense_4 (Dense)                (None, 22, 40, 128)  8320        ['max_pooling2d_5[0][0]']        \n",
      "                                                                                                  \n",
      " dense_5 (Dense)                (None, 22, 40, 32)   4128        ['dense_4[0][0]']                \n",
      "                                                                                                  \n",
      " dense_6 (Dense)                (None, 22, 40, 4)    132         ['dense_5[0][0]']                \n",
      "                                                                                                  \n",
      " flatten_1 (Flatten)            (None, 3520)         0           ['dense_6[0][0]']                \n",
      "                                                                                                  \n",
      " input_4 (InputLayer)           [(None, 1)]          0           []                               \n",
      "                                                                                                  \n",
      " concatenate_1 (Concatenate)    (None, 3521)         0           ['flatten_1[0][0]',              \n",
      "                                                                  'input_4[0][0]']                \n",
      "                                                                                                  \n",
      " dense_7 (Dense)                (None, 1)            3522        ['concatenate_1[0][0]']          \n",
      "                                                                                                  \n",
      "==================================================================================================\n",
      "Total params: 91,750\n",
      "Trainable params: 91,750\n",
      "Non-trainable params: 0\n",
      "__________________________________________________________________________________________________\n"
     ]
    }
   ],
   "source": [
    "from keras import regularizers\n",
    "def create_model():\n",
    "    # Image input\n",
    "    image_input = Input(shape=(HEIGHT, WIDTH, 3))\n",
    "    # Integer input\n",
    "    integer_input = Input(shape=(1,))\n",
    "    # Preprocess the image input\n",
    "    x = Conv2D(64, kernel_size=(3, 3), activation='relu',padding='same',activity_regularizer=regularizers.L2(1e-5))(image_input)\n",
    "    x = MaxPooling2D(pool_size=(2, 2))(x)\n",
    "    x = Conv2D(64, kernel_size=(3, 3), activation='relu',padding='same',activity_regularizer=regularizers.L2(1e-5))(x)\n",
    "    x = MaxPooling2D(pool_size=(2, 2))(x)\n",
    "    x = Conv2D(64, kernel_size=(3, 3), activation='relu',padding='same',activity_regularizer=regularizers.L2(1e-5))(x)\n",
    "    x = MaxPooling2D(pool_size=(2, 2))(x)\n",
    "    x = Dense(128, activation='relu',activity_regularizer=regularizers.L2(1e-5))(x)\n",
    "    x = Dense(32, activation='relu',activity_regularizer=regularizers.L2(1e-5))(x)\n",
    "    x = Dense(4, activation='relu',activity_regularizer=regularizers.L2(1e-5))(x)\n",
    "    x = Flatten()(x)\n",
    "    # Concatenate image features with integer input\n",
    "    concatenated_inputs = Concatenate()([x, integer_input])\n",
    "    # Dense layers for prediction\n",
    "    output = Dense(1, activation='linear')(concatenated_inputs)\n",
    "    # Create the model\n",
    "    model = Model(inputs=[image_input, integer_input], outputs=output)\n",
    "    return model\n",
    "\n",
    "model = create_model()\n",
    "\n",
    "model.summary()"
   ]
  },
  {
   "cell_type": "code",
   "execution_count": 17,
   "metadata": {},
   "outputs": [
    {
     "name": "stdout",
     "output_type": "stream",
     "text": [
      "Epoch 1/10\n",
      "57/57 [==============================] - 61s 941ms/step - loss: 0.0542 - val_loss: 0.0128\n",
      "Epoch 2/10\n",
      "57/57 [==============================] - 51s 889ms/step - loss: 0.0629 - val_loss: 0.0743\n",
      "Epoch 3/10\n",
      "57/57 [==============================] - 49s 860ms/step - loss: 0.0656 - val_loss: 0.1822\n",
      "Epoch 4/10\n",
      "57/57 [==============================] - 46s 802ms/step - loss: 0.0576 - val_loss: 0.1905\n",
      "Epoch 5/10\n",
      "57/57 [==============================] - 46s 802ms/step - loss: 0.0562 - val_loss: 0.1971\n",
      "Epoch 6/10\n",
      "57/57 [==============================] - 46s 803ms/step - loss: 0.0552 - val_loss: 0.2023\n",
      "Epoch 7/10\n",
      "57/57 [==============================] - 48s 841ms/step - loss: 0.0546 - val_loss: 0.2065\n",
      "Epoch 8/10\n",
      "57/57 [==============================] - 47s 829ms/step - loss: 0.0542 - val_loss: 0.2098\n",
      "Epoch 9/10\n",
      "57/57 [==============================] - 47s 827ms/step - loss: 0.0540 - val_loss: 0.2125\n",
      "Epoch 10/10\n",
      "57/57 [==============================] - 47s 821ms/step - loss: 0.0538 - val_loss: 0.2146\n",
      "71/71 [==============================] - 17s 230ms/step\n",
      "Prediction min:  -0.17483644  Prediction max:  0.0167927\n"
     ]
    }
   ],
   "source": [
    "model.compile(loss='MSE', optimizer='adam')\n",
    "model.fit([X, X1], Y, batch_size=32, shuffle=False, epochs=10, validation_split=0.2, workers=6, use_multiprocessing=False)\n",
    "\n",
    "predictions = model.predict([X,X1], batch_size=32)\n",
    "print(\"Prediction min: \",predictions.min(),\" Prediction max: \",predictions.max())"
   ]
  },
  {
   "cell_type": "code",
   "execution_count": 18,
   "metadata": {},
   "outputs": [
    {
     "name": "stdout",
     "output_type": "stream",
     "text": [
      "This is how predictions are distributed:\n"
     ]
    },
    {
     "data": {
      "image/png": "[encoded data removed]",
      "text/plain": [
       "<Figure size 640x480 with 1 Axes>"
      ]
     },
     "metadata": {},
     "output_type": "display_data"
    }
   ],
   "source": [
    "# draw how Predictions are distributed \n",
    "frq, edges = np.histogram(predictions, bins=20)\n",
    "fig, ax = plt.subplots()\n",
    "ax.bar(edges[:-1], frq, width=np.diff(edges), edgecolor=\"black\", align=\"edge\")\n",
    "print('This is how predictions are distributed:')\n",
    "plt.show()"
   ]
  },
  {
   "cell_type": "code",
   "execution_count": 19,
   "metadata": {},
   "outputs": [
    {
     "name": "stderr",
     "output_type": "stream",
     "text": [
      "WARNING:absl:Found untraced functions such as _jit_compiled_convolution_op, _jit_compiled_convolution_op, _jit_compiled_convolution_op, _update_step_xla while saving (showing 4 of 4). These functions will not be directly callable after loading.\n"
     ]
    },
    {
     "name": "stdout",
     "output_type": "stream",
     "text": [
      "INFO:tensorflow:Assets written to: GPS_Visual_Model_over/assets\n"
     ]
    },
    {
     "name": "stderr",
     "output_type": "stream",
     "text": [
      "INFO:tensorflow:Assets written to: GPS_Visual_Model_over/assets\n"
     ]
    }
   ],
   "source": [
    "# to save model\n",
    "model.save(\"GPS_Visual_Model_over\", overwrite=True,include_optimizer=True,\n",
    "    save_format=None, signatures=None, options=None, save_traces=True)"
   ]
  },
  {
   "cell_type": "markdown",
   "metadata": {},
   "source": [
    "### Fifth attempt to relieve overfitting\n",
    "- add early Stopping\n",
    "- add dropout layer\n",
    "- lower learning rate\n",
    "- huge data"
   ]
  },
  {
   "cell_type": "code",
   "execution_count": 3,
   "metadata": {},
   "outputs": [],
   "source": [
    "#constants to resize image to\n",
    "HEIGHT = 180\n",
    "WIDTH = 320\n",
    "\n",
    "YAW_ADJ_DEGREES = 35 # e.g. goes from -35 to +35\n",
    "MAX_STEER_DEGREES = 50\n",
    "\n",
    "#get a lsit of files\n",
    "mypath = '/home/winter/carla-ros-bridge/src/ros-bridge/learning_carla/GPS_and_CV/_img'\n",
    "images = [f.split('.png')[0] for f in os.listdir(mypath) if f.endswith(\".png\")]\n",
    "\n",
    "random.shuffle(images)"
   ]
  },
  {
   "cell_type": "code",
   "execution_count": 4,
   "metadata": {},
   "outputs": [],
   "source": [
    "def balance_array(bin_start, bin_end, bin_size, Y):  # Y를 인자로 받도록 수정\n",
    "    \"\"\"\n",
    "    y값의 범위에 따라 데이터 샘플링을 다르게 하는 함수 (개선 버전)\n",
    "\n",
    "    Args:\n",
    "        bin_start: y값의 최소값\n",
    "        bin_end: y값의 최대값\n",
    "        bin_size: y값 범위 간격\n",
    "        Y: y값(steering)이 포함된 NumPy 배열\n",
    "\n",
    "    Returns:\n",
    "        balanced_subset: 밸런싱된 데이터의 인덱스 (NumPy 배열)\n",
    "    \"\"\"\n",
    "    num_bins = int((bin_end - bin_start) / bin_size) + 1\n",
    "    hist, bin_edges = np.histogram(Y, bins=num_bins, range=(bin_start, bin_end))\n",
    "    min_count = np.min(hist)\n",
    "\n",
    "    balanced_indices = []\n",
    "    for i in range(num_bins):\n",
    "        # y값이 현재 bin 범위에 속하는 데이터의 인덱스\n",
    "        indices = np.where((Y >= bin_edges[i]) & (Y < bin_edges[i + 1]))[0]\n",
    "\n",
    "        # 해당 범위의 인덱스가 min_count보다 많으면, 무작위로 min_count만큼 선택\n",
    "        if len(indices) > min_count:\n",
    "            indices = np.random.choice(indices, size=min_count, replace=False)\n",
    "\n",
    "        balanced_indices.extend(indices)\n",
    "\n",
    "    return np.array(balanced_indices)"
   ]
  },
  {
   "cell_type": "code",
   "execution_count": 5,
   "metadata": {},
   "outputs": [],
   "source": [
    "X = [] #images\n",
    "X1 = [] # gen direction\n",
    "Y = [] #expected steering for this image\n",
    "for example in images:\n",
    "    img_path = mypath+'/'+example+'.png'\n",
    "    image = cv2.imread(img_path,cv2.IMREAD_COLOR)\n",
    "    # option to make images smaller\n",
    "    image = cv2.resize(image, (WIDTH,HEIGHT))\n",
    "    \n",
    "    # y labels are taken from after 2nd '_' in file name\n",
    "    y = float(example.split('_')[2])\n",
    "    # convert to a fraction of 90 degrees so -1 is all the way left and + 1 is all the way right\n",
    "    if y >= MAX_STEER_DEGREES:\n",
    "        y = MAX_STEER_DEGREES\n",
    "    elif y <= -MAX_STEER_DEGREES:\n",
    "        y = -MAX_STEER_DEGREES\n",
    "\n",
    "    y = float(y)/MAX_STEER_DEGREES # rescale to -1 to +1 so -1 is when max left 40degrees and +1 is +40deg\n",
    "    X.append(image) # adding another dimension\n",
    "    # gen direction values are taken from after 1st '_' in file name\n",
    "    X1.append(int(example.split('_')[1]))\n",
    "    Y.append(y)"
   ]
  },
  {
   "cell_type": "code",
   "execution_count": 6,
   "metadata": {},
   "outputs": [],
   "source": [
    "#convert to numpy arrays\n",
    "X = np.array(X, dtype=np.float32) / 255.0\n",
    "X1 = np.array(X1, dtype=np.int16)\n",
    "Y = np.array(Y, dtype=np.float32)\n",
    "\n",
    "balanced_subset = balance_array(-0.5,0.5,0.1, Y) # too small min_count may affect data loss\n",
    "\n",
    "X = X[balanced_subset]\n",
    "X1 = X1[balanced_subset]\n",
    "Y = Y[balanced_subset]"
   ]
  },
  {
   "cell_type": "code",
   "execution_count": 7,
   "metadata": {},
   "outputs": [
    {
     "name": "stdout",
     "output_type": "stream",
     "text": [
      "This is how training set is distributed:\n"
     ]
    },
    {
     "data": {
      "image/png": "[encoded data removed]",
      "text/plain": [
       "<Figure size 640x480 with 1 Axes>"
      ]
     },
     "metadata": {},
     "output_type": "display_data"
    }
   ],
   "source": [
    "# draw how Y is distributed befored going into training\n",
    "frq, edges = np.histogram(Y, bins=20)\n",
    "fig, ax = plt.subplots()\n",
    "ax.bar(edges[:-1], frq, width=np.diff(edges), edgecolor=\"black\", align=\"edge\")\n",
    "print('This is how training set is distributed:')\n",
    "plt.show()"
   ]
  },
  {
   "cell_type": "code",
   "execution_count": 8,
   "metadata": {},
   "outputs": [
    {
     "name": "stdout",
     "output_type": "stream",
     "text": [
      "Model: \"model\"\n",
      "__________________________________________________________________________________________________\n",
      " Layer (type)                   Output Shape         Param #     Connected to                     \n",
      "==================================================================================================\n",
      " input_1 (InputLayer)           [(None, 180, 320, 3  0           []                               \n",
      "                                )]                                                                \n",
      "                                                                                                  \n",
      " conv2d (Conv2D)                (None, 180, 320, 64  1792        ['input_1[0][0]']                \n",
      "                                )                                                                 \n",
      "                                                                                                  \n",
      " max_pooling2d (MaxPooling2D)   (None, 90, 160, 64)  0           ['conv2d[0][0]']                 \n",
      "                                                                                                  \n",
      " dropout (Dropout)              (None, 90, 160, 64)  0           ['max_pooling2d[0][0]']          \n",
      "                                                                                                  \n",
      " conv2d_1 (Conv2D)              (None, 90, 160, 64)  36928       ['dropout[0][0]']                \n",
      "                                                                                                  \n",
      " max_pooling2d_1 (MaxPooling2D)  (None, 45, 80, 64)  0           ['conv2d_1[0][0]']               \n",
      "                                                                                                  \n",
      " dropout_1 (Dropout)            (None, 45, 80, 64)   0           ['max_pooling2d_1[0][0]']        \n",
      "                                                                                                  \n",
      " conv2d_2 (Conv2D)              (None, 45, 80, 64)   36928       ['dropout_1[0][0]']              \n",
      "                                                                                                  \n",
      " max_pooling2d_2 (MaxPooling2D)  (None, 22, 40, 64)  0           ['conv2d_2[0][0]']               \n",
      "                                                                                                  \n",
      " dropout_2 (Dropout)            (None, 22, 40, 64)   0           ['max_pooling2d_2[0][0]']        \n",
      "                                                                                                  \n",
      " dense (Dense)                  (None, 22, 40, 128)  8320        ['dropout_2[0][0]']              \n",
      "                                                                                                  \n",
      " dropout_3 (Dropout)            (None, 22, 40, 128)  0           ['dense[0][0]']                  \n",
      "                                                                                                  \n",
      " dense_1 (Dense)                (None, 22, 40, 32)   4128        ['dropout_3[0][0]']              \n",
      "                                                                                                  \n",
      " dense_2 (Dense)                (None, 22, 40, 4)    132         ['dense_1[0][0]']                \n",
      "                                                                                                  \n",
      " flatten (Flatten)              (None, 3520)         0           ['dense_2[0][0]']                \n",
      "                                                                                                  \n",
      " input_2 (InputLayer)           [(None, 1)]          0           []                               \n",
      "                                                                                                  \n",
      " concatenate (Concatenate)      (None, 3521)         0           ['flatten[0][0]',                \n",
      "                                                                  'input_2[0][0]']                \n",
      "                                                                                                  \n",
      " dense_3 (Dense)                (None, 1)            3522        ['concatenate[0][0]']            \n",
      "                                                                                                  \n",
      "==================================================================================================\n",
      "Total params: 91,750\n",
      "Trainable params: 91,750\n",
      "Non-trainable params: 0\n",
      "__________________________________________________________________________________________________\n"
     ]
    }
   ],
   "source": [
    "from keras import regularizers\n",
    "from keras.layers import Dropout\n",
    "def create_model():\n",
    "    # Image input\n",
    "    image_input = Input(shape=(HEIGHT, WIDTH, 3))\n",
    "    # Integer input\n",
    "    integer_input = Input(shape=(1,))\n",
    "    # Preprocess the image input\n",
    "    x = Conv2D(64, kernel_size=(3, 3), activation='relu',padding='same',activity_regularizer=regularizers.L2(1e-5))(image_input)\n",
    "    x = MaxPooling2D(pool_size=(2, 2))(x)\n",
    "    x = Dropout(0.25)(x) # add dropout\n",
    "    x = Conv2D(64, kernel_size=(3, 3), activation='relu',padding='same',activity_regularizer=regularizers.L2(1e-5))(x)\n",
    "    x = MaxPooling2D(pool_size=(2, 2))(x)\n",
    "    x = Dropout(0.25)(x) # add dropout\n",
    "    x = Conv2D(64, kernel_size=(3, 3), activation='relu',padding='same',activity_regularizer=regularizers.L2(1e-5))(x)\n",
    "    x = MaxPooling2D(pool_size=(2, 2))(x)\n",
    "    x = Dropout(0.25)(x) # add dropout\n",
    "    x = Dense(128, activation='relu',activity_regularizer=regularizers.L2(1e-5))(x)\n",
    "    x = Dropout(0.5)(x) # add dropout\n",
    "    x = Dense(32, activation='relu',activity_regularizer=regularizers.L2(1e-5))(x)\n",
    "    x = Dense(4, activation='relu',activity_regularizer=regularizers.L2(1e-5))(x)\n",
    "    x = Flatten()(x)\n",
    "    # Concatenate image features with integer input\n",
    "    concatenated_inputs = Concatenate()([x, integer_input])\n",
    "    # Dense layers for prediction\n",
    "    output = Dense(1, activation='linear')(concatenated_inputs)\n",
    "    # Create the model\n",
    "    model = Model(inputs=[image_input, integer_input], outputs=output)\n",
    "    return model\n",
    "\n",
    "model = create_model()\n",
    "\n",
    "model.summary()"
   ]
  },
  {
   "cell_type": "code",
   "execution_count": 9,
   "metadata": {},
   "outputs": [
    {
     "name": "stdout",
     "output_type": "stream",
     "text": [
      "Epoch 1/10\n"
     ]
    },
    {
     "name": "stderr",
     "output_type": "stream",
     "text": [
      "2025-01-20 10:02:21.083439: E tensorflow/core/grappler/optimizers/meta_optimizer.cc:954] layout failed: INVALID_ARGUMENT: Size of values 0 does not match size of permutation 4 @ fanin shape inmodel/dropout/dropout/SelectV2-2-TransposeNHWCToNCHW-LayoutOptimizer\n",
      "2025-01-20 10:02:22.498194: I tensorflow/compiler/xla/stream_executor/cuda/cuda_dnn.cc:428] Loaded cuDNN version 8101\n",
      "2025-01-20 10:02:26.026297: I tensorflow/compiler/xla/stream_executor/cuda/cuda_blas.cc:630] TensorFloat-32 will be used for the matrix multiplication. This will only be logged once.\n",
      "2025-01-20 10:02:26.067474: I tensorflow/compiler/xla/service/service.cc:173] XLA service 0x559762bb4040 initialized for platform CUDA (this does not guarantee that XLA will be used). Devices:\n",
      "2025-01-20 10:02:26.067530: I tensorflow/compiler/xla/service/service.cc:181]   StreamExecutor device (0): NVIDIA GeForce RTX 3080, Compute Capability 8.6\n",
      "2025-01-20 10:02:26.102392: I tensorflow/compiler/mlir/tensorflow/utils/dump_mlir_util.cc:268] disabling MLIR crash reproducer, set env var `MLIR_CRASH_REPRODUCER_DIRECTORY` to enable.\n",
      "2025-01-20 10:02:26.436501: I tensorflow/compiler/jit/xla_compilation_cache.cc:477] Compiled cluster using XLA!  This line is logged at most once for the lifetime of the process.\n"
     ]
    },
    {
     "name": "stdout",
     "output_type": "stream",
     "text": [
      "261/261 [==============================] - 19s 43ms/step - loss: 0.0242 - val_loss: 0.0807 - lr: 0.0010\n",
      "Epoch 2/10\n",
      "261/261 [==============================] - 9s 34ms/step - loss: 0.0722 - val_loss: 0.1356 - lr: 0.0010\n",
      "Epoch 3/10\n",
      "261/261 [==============================] - 9s 34ms/step - loss: 0.0618 - val_loss: 0.1485 - lr: 2.0000e-04\n",
      "Epoch 4/10\n",
      "261/261 [==============================] - 9s 35ms/step - loss: 0.0590 - val_loss: 0.1511 - lr: 4.0000e-05\n"
     ]
    },
    {
     "name": "stderr",
     "output_type": "stream",
     "text": [
      "2025-01-20 10:03:24.596311: W tensorflow/tsl/framework/bfc_allocator.cc:479] Allocator (GPU_0_bfc) ran out of memory trying to allocate 3.35GiB (rounded to 3596313600)requested by op _EagerConst\n",
      "If the cause is memory fragmentation maybe the environment variable 'TF_GPU_ALLOCATOR=cuda_malloc_async' will improve the situation. \n",
      "Current allocation summary follows.\n",
      "Current allocation summary follows.\n",
      "2025-01-20 10:03:24.598056: I tensorflow/tsl/framework/bfc_allocator.cc:1034] BFCAllocator dump for GPU_0_bfc\n",
      "2025-01-20 10:03:24.598080: I tensorflow/tsl/framework/bfc_allocator.cc:1041] Bin (256): \tTotal Chunks: 59, Chunks in use: 56. 14.8KiB allocated for chunks. 14.0KiB in use in bin. 2.9KiB client-requested in use in bin.\n",
      "2025-01-20 10:03:24.598087: I tensorflow/tsl/framework/bfc_allocator.cc:1041] Bin (512): \tTotal Chunks: 6, Chunks in use: 6. 3.5KiB allocated for chunks. 3.5KiB in use in bin. 3.0KiB client-requested in use in bin.\n",
      "2025-01-20 10:03:24.598090: I tensorflow/tsl/framework/bfc_allocator.cc:1041] Bin (1024): \tTotal Chunks: 1, Chunks in use: 1. 1.2KiB allocated for chunks. 1.2KiB in use in bin. 1.0KiB client-requested in use in bin.\n",
      "2025-01-20 10:03:24.598093: I tensorflow/tsl/framework/bfc_allocator.cc:1041] Bin (2048): \tTotal Chunks: 1, Chunks in use: 1. 2.2KiB allocated for chunks. 2.2KiB in use in bin. 2.0KiB client-requested in use in bin.\n",
      "2025-01-20 10:03:24.598096: I tensorflow/tsl/framework/bfc_allocator.cc:1041] Bin (4096): \tTotal Chunks: 4, Chunks in use: 3. 25.0KiB allocated for chunks. 18.2KiB in use in bin. 17.6KiB client-requested in use in bin.\n",
      "2025-01-20 10:03:24.598099: I tensorflow/tsl/framework/bfc_allocator.cc:1041] Bin (8192): \tTotal Chunks: 5, Chunks in use: 4. 67.5KiB allocated for chunks. 53.8KiB in use in bin. 42.4KiB client-requested in use in bin.\n",
      "2025-01-20 10:03:24.598103: I tensorflow/tsl/framework/bfc_allocator.cc:1041] Bin (16384): \tTotal Chunks: 5, Chunks in use: 5. 81.0KiB allocated for chunks. 81.0KiB in use in bin. 78.0KiB client-requested in use in bin.\n",
      "2025-01-20 10:03:24.598106: I tensorflow/tsl/framework/bfc_allocator.cc:1041] Bin (32768): \tTotal Chunks: 3, Chunks in use: 3. 96.0KiB allocated for chunks. 96.0KiB in use in bin. 96.0KiB client-requested in use in bin.\n",
      "2025-01-20 10:03:24.598111: I tensorflow/tsl/framework/bfc_allocator.cc:1041] Bin (65536): \tTotal Chunks: 1, Chunks in use: 0. 112.0KiB allocated for chunks. 0B in use in bin. 0B client-requested in use in bin.\n",
      "2025-01-20 10:03:24.598114: I tensorflow/tsl/framework/bfc_allocator.cc:1041] Bin (131072): \tTotal Chunks: 6, Chunks in use: 6. 892.5KiB allocated for chunks. 892.5KiB in use in bin. 864.0KiB client-requested in use in bin.\n",
      "2025-01-20 10:03:24.598118: I tensorflow/tsl/framework/bfc_allocator.cc:1041] Bin (262144): \tTotal Chunks: 0, Chunks in use: 0. 0B allocated for chunks. 0B in use in bin. 0B client-requested in use in bin.\n",
      "2025-01-20 10:03:24.598121: I tensorflow/tsl/framework/bfc_allocator.cc:1041] Bin (524288): \tTotal Chunks: 1, Chunks in use: 0. 876.2KiB allocated for chunks. 0B in use in bin. 0B client-requested in use in bin.\n",
      "2025-01-20 10:03:24.598124: I tensorflow/tsl/framework/bfc_allocator.cc:1041] Bin (1048576): \tTotal Chunks: 0, Chunks in use: 0. 0B allocated for chunks. 0B in use in bin. 0B client-requested in use in bin.\n",
      "2025-01-20 10:03:24.598127: I tensorflow/tsl/framework/bfc_allocator.cc:1041] Bin (2097152): \tTotal Chunks: 0, Chunks in use: 0. 0B allocated for chunks. 0B in use in bin. 0B client-requested in use in bin.\n",
      "2025-01-20 10:03:24.598129: I tensorflow/tsl/framework/bfc_allocator.cc:1041] Bin (4194304): \tTotal Chunks: 0, Chunks in use: 0. 0B allocated for chunks. 0B in use in bin. 0B client-requested in use in bin.\n",
      "2025-01-20 10:03:24.598131: I tensorflow/tsl/framework/bfc_allocator.cc:1041] Bin (8388608): \tTotal Chunks: 0, Chunks in use: 0. 0B allocated for chunks. 0B in use in bin. 0B client-requested in use in bin.\n",
      "2025-01-20 10:03:24.598134: I tensorflow/tsl/framework/bfc_allocator.cc:1041] Bin (16777216): \tTotal Chunks: 0, Chunks in use: 0. 0B allocated for chunks. 0B in use in bin. 0B client-requested in use in bin.\n",
      "2025-01-20 10:03:24.598137: I tensorflow/tsl/framework/bfc_allocator.cc:1041] Bin (33554432): \tTotal Chunks: 1, Chunks in use: 0. 35.30MiB allocated for chunks. 0B in use in bin. 0B client-requested in use in bin.\n",
      "2025-01-20 10:03:24.598139: I tensorflow/tsl/framework/bfc_allocator.cc:1041] Bin (67108864): \tTotal Chunks: 0, Chunks in use: 0. 0B allocated for chunks. 0B in use in bin. 0B client-requested in use in bin.\n",
      "2025-01-20 10:03:24.598143: I tensorflow/tsl/framework/bfc_allocator.cc:1041] Bin (134217728): \tTotal Chunks: 1, Chunks in use: 0. 163.37MiB allocated for chunks. 0B in use in bin. 0B client-requested in use in bin.\n",
      "2025-01-20 10:03:24.598146: I tensorflow/tsl/framework/bfc_allocator.cc:1041] Bin (268435456): \tTotal Chunks: 4, Chunks in use: 2. 7.00GiB allocated for chunks. 3.35GiB in use in bin. 3.35GiB client-requested in use in bin.\n",
      "2025-01-20 10:03:24.598149: I tensorflow/tsl/framework/bfc_allocator.cc:1057] Bin for 3.35GiB was 256.00MiB, Chunk State: \n",
      "2025-01-20 10:03:24.598160: I tensorflow/tsl/framework/bfc_allocator.cc:1063]   Size: 467.50MiB | Requested Size: 225.00MiB | in_use: 0 | bin_num: 20, prev:   Size: 2.68GiB | Requested Size: 2.68GiB | in_use: 1 | bin_num: -1, next:   Size: 32.0KiB | Requested Size: 32.0KiB | in_use: 1 | bin_num: -1\n",
      "2025-01-20 10:03:24.598165: I tensorflow/tsl/framework/bfc_allocator.cc:1063]   Size: 3.19GiB | Requested Size: 225.00MiB | in_use: 0 | bin_num: 20\n",
      "2025-01-20 10:03:24.598167: I tensorflow/tsl/framework/bfc_allocator.cc:1070] Next region of size 2097152\n",
      "2025-01-20 10:03:24.598690: I tensorflow/tsl/framework/bfc_allocator.cc:1090] InUse at 717c00000 of size 1280 next 1\n",
      "2025-01-20 10:03:24.598703: I tensorflow/tsl/framework/bfc_allocator.cc:1090] InUse at 717c00500 of size 256 next 2\n",
      "2025-01-20 10:03:24.598706: I tensorflow/tsl/framework/bfc_allocator.cc:1090] InUse at 717c00600 of size 256 next 3\n",
      "2025-01-20 10:03:24.598708: I tensorflow/tsl/framework/bfc_allocator.cc:1090] InUse at 717c00700 of size 256 next 5\n",
      "2025-01-20 10:03:24.598710: I tensorflow/tsl/framework/bfc_allocator.cc:1090] InUse at 717c00800 of size 256 next 6\n",
      "2025-01-20 10:03:24.598712: I tensorflow/tsl/framework/bfc_allocator.cc:1090] InUse at 717c00900 of size 256 next 4\n",
      "2025-01-20 10:03:24.598714: I tensorflow/tsl/framework/bfc_allocator.cc:1090] InUse at 717c00a00 of size 256 next 7\n",
      "2025-01-20 10:03:24.598717: I tensorflow/tsl/framework/bfc_allocator.cc:1090] InUse at 717c00b00 of size 256 next 84\n",
      "2025-01-20 10:03:24.598719: I tensorflow/tsl/framework/bfc_allocator.cc:1090] InUse at 717c00c00 of size 256 next 15\n",
      "2025-01-20 10:03:24.598721: I tensorflow/tsl/framework/bfc_allocator.cc:1090] InUse at 717c00d00 of size 256 next 10\n",
      "2025-01-20 10:03:24.598723: I tensorflow/tsl/framework/bfc_allocator.cc:1090] InUse at 717c00e00 of size 256 next 11\n",
      "2025-01-20 10:03:24.598725: I tensorflow/tsl/framework/bfc_allocator.cc:1090] InUse at 717c00f00 of size 256 next 118\n",
      "2025-01-20 10:03:24.598728: I tensorflow/tsl/framework/bfc_allocator.cc:1090] InUse at 717c01000 of size 256 next 19\n",
      "2025-01-20 10:03:24.598730: I tensorflow/tsl/framework/bfc_allocator.cc:1090] InUse at 717c01100 of size 256 next 17\n",
      "2025-01-20 10:03:24.598732: I tensorflow/tsl/framework/bfc_allocator.cc:1090] InUse at 717c01200 of size 256 next 18\n",
      "2025-01-20 10:03:24.598734: I tensorflow/tsl/framework/bfc_allocator.cc:1090] InUse at 717c01300 of size 256 next 24\n",
      "2025-01-20 10:03:24.598736: I tensorflow/tsl/framework/bfc_allocator.cc:1090] InUse at 717c01400 of size 256 next 22\n",
      "2025-01-20 10:03:24.598738: I tensorflow/tsl/framework/bfc_allocator.cc:1090] InUse at 717c01500 of size 256 next 23\n",
      "2025-01-20 10:03:24.598740: I tensorflow/tsl/framework/bfc_allocator.cc:1090] InUse at 717c01600 of size 256 next 28\n",
      "2025-01-20 10:03:24.598742: I tensorflow/tsl/framework/bfc_allocator.cc:1090] InUse at 717c01700 of size 256 next 29\n",
      "2025-01-20 10:03:24.598745: I tensorflow/tsl/framework/bfc_allocator.cc:1090] InUse at 717c01800 of size 256 next 27\n",
      "2025-01-20 10:03:24.598747: I tensorflow/tsl/framework/bfc_allocator.cc:1090] InUse at 717c01900 of size 256 next 30\n",
      "2025-01-20 10:03:24.598749: I tensorflow/tsl/framework/bfc_allocator.cc:1090] InUse at 717c01a00 of size 256 next 33\n",
      "2025-01-20 10:03:24.598751: I tensorflow/tsl/framework/bfc_allocator.cc:1090] InUse at 717c01b00 of size 256 next 34\n",
      "2025-01-20 10:03:24.598754: I tensorflow/tsl/framework/bfc_allocator.cc:1090] InUse at 717c01c00 of size 256 next 31\n",
      "2025-01-20 10:03:24.598756: I tensorflow/tsl/framework/bfc_allocator.cc:1090] InUse at 717c01d00 of size 256 next 50\n",
      "2025-01-20 10:03:24.598758: I tensorflow/tsl/framework/bfc_allocator.cc:1090] InUse at 717c01e00 of size 256 next 32\n",
      "2025-01-20 10:03:24.598761: I tensorflow/tsl/framework/bfc_allocator.cc:1090] InUse at 717c01f00 of size 256 next 36\n",
      "2025-01-20 10:03:24.598763: I tensorflow/tsl/framework/bfc_allocator.cc:1090] InUse at 717c02000 of size 256 next 37\n",
      "2025-01-20 10:03:24.598765: I tensorflow/tsl/framework/bfc_allocator.cc:1090] InUse at 717c02100 of size 256 next 41\n",
      "2025-01-20 10:03:24.598767: I tensorflow/tsl/framework/bfc_allocator.cc:1090] InUse at 717c02200 of size 256 next 42\n",
      "2025-01-20 10:03:24.598769: I tensorflow/tsl/framework/bfc_allocator.cc:1090] InUse at 717c02300 of size 256 next 43\n",
      "2025-01-20 10:03:24.598772: I tensorflow/tsl/framework/bfc_allocator.cc:1090] Free  at 717c02400 of size 14080 next 9\n",
      "2025-01-20 10:03:24.598774: I tensorflow/tsl/framework/bfc_allocator.cc:1090] InUse at 717c05b00 of size 14336 next 35\n",
      "2025-01-20 10:03:24.598777: I tensorflow/tsl/framework/bfc_allocator.cc:1090] InUse at 717c09300 of size 256 next 83\n",
      "2025-01-20 10:03:24.598779: I tensorflow/tsl/framework/bfc_allocator.cc:1090] InUse at 717c09400 of size 256 next 116\n",
      "2025-01-20 10:03:24.598781: I tensorflow/tsl/framework/bfc_allocator.cc:1090] InUse at 717c09500 of size 512 next 117\n",
      "2025-01-20 10:03:24.598783: I tensorflow/tsl/framework/bfc_allocator.cc:1090] InUse at 717c09700 of size 512 next 65\n",
      "2025-01-20 10:03:24.598786: I tensorflow/tsl/framework/bfc_allocator.cc:1090] InUse at 717c09900 of size 16384 next 106\n",
      "2025-01-20 10:03:24.598807: I tensorflow/tsl/framework/bfc_allocator.cc:1090] InUse at 717c0d900 of size 16896 next 25\n",
      "2025-01-20 10:03:24.598810: I tensorflow/tsl/framework/bfc_allocator.cc:1090] Free  at 717c11b00 of size 256 next 64\n",
      "2025-01-20 10:03:24.598812: I tensorflow/tsl/framework/bfc_allocator.cc:1090] InUse at 717c11c00 of size 7168 next 46\n",
      "2025-01-20 10:03:24.598814: I tensorflow/tsl/framework/bfc_allocator.cc:1090] InUse at 717c13800 of size 256 next 97\n",
      "2025-01-20 10:03:24.598816: I tensorflow/tsl/framework/bfc_allocator.cc:1090] InUse at 717c13900 of size 256 next 49\n",
      "2025-01-20 10:03:24.598818: I tensorflow/tsl/framework/bfc_allocator.cc:1090] InUse at 717c13a00 of size 256 next 14\n",
      "2025-01-20 10:03:24.598821: I tensorflow/tsl/framework/bfc_allocator.cc:1090] InUse at 717c13b00 of size 256 next 16\n",
      "2025-01-20 10:03:24.598823: I tensorflow/tsl/framework/bfc_allocator.cc:1090] Free  at 717c13c00 of size 256 next 12\n",
      "2025-01-20 10:03:24.598825: I tensorflow/tsl/framework/bfc_allocator.cc:1090] InUse at 717c13d00 of size 256 next 13\n",
      "2025-01-20 10:03:24.598827: I tensorflow/tsl/framework/bfc_allocator.cc:1090] InUse at 717c13e00 of size 256 next 63\n",
      "2025-01-20 10:03:24.598829: I tensorflow/tsl/framework/bfc_allocator.cc:1090] InUse at 717c13f00 of size 768 next 61\n",
      "2025-01-20 10:03:24.598832: I tensorflow/tsl/framework/bfc_allocator.cc:1090] InUse at 717c14200 of size 256 next 111\n",
      "2025-01-20 10:03:24.598834: I tensorflow/tsl/framework/bfc_allocator.cc:1090] InUse at 717c14300 of size 512 next 113\n",
      "2025-01-20 10:03:24.598836: I tensorflow/tsl/framework/bfc_allocator.cc:1090] InUse at 717c14500 of size 512 next 103\n",
      "2025-01-20 10:03:24.598838: I tensorflow/tsl/framework/bfc_allocator.cc:1090] InUse at 717c14700 of size 768 next 69\n",
      "2025-01-20 10:03:24.598841: I tensorflow/tsl/framework/bfc_allocator.cc:1090] InUse at 717c14a00 of size 256 next 70\n",
      "2025-01-20 10:03:24.598843: I tensorflow/tsl/framework/bfc_allocator.cc:1090] InUse at 717c14b00 of size 256 next 71\n",
      "2025-01-20 10:03:24.598845: I tensorflow/tsl/framework/bfc_allocator.cc:1090] InUse at 717c14c00 of size 256 next 72\n",
      "2025-01-20 10:03:24.598847: I tensorflow/tsl/framework/bfc_allocator.cc:1090] InUse at 717c14d00 of size 256 next 73\n",
      "2025-01-20 10:03:24.598850: I tensorflow/tsl/framework/bfc_allocator.cc:1090] InUse at 717c14e00 of size 256 next 74\n",
      "2025-01-20 10:03:24.598852: I tensorflow/tsl/framework/bfc_allocator.cc:1090] InUse at 717c14f00 of size 256 next 75\n",
      "2025-01-20 10:03:24.598854: I tensorflow/tsl/framework/bfc_allocator.cc:1090] InUse at 717c15000 of size 256 next 76\n",
      "2025-01-20 10:03:24.598856: I tensorflow/tsl/framework/bfc_allocator.cc:1090] InUse at 717c15100 of size 256 next 77\n",
      "2025-01-20 10:03:24.598858: I tensorflow/tsl/framework/bfc_allocator.cc:1090] InUse at 717c15200 of size 256 next 78\n",
      "2025-01-20 10:03:24.598861: I tensorflow/tsl/framework/bfc_allocator.cc:1090] InUse at 717c15300 of size 256 next 79\n",
      "2025-01-20 10:03:24.598863: I tensorflow/tsl/framework/bfc_allocator.cc:1090] InUse at 717c15400 of size 256 next 80\n",
      "2025-01-20 10:03:24.598865: I tensorflow/tsl/framework/bfc_allocator.cc:1090] Free  at 717c15500 of size 256 next 66\n",
      "2025-01-20 10:03:24.598867: I tensorflow/tsl/framework/bfc_allocator.cc:1090] InUse at 717c15600 of size 256 next 67\n",
      "2025-01-20 10:03:24.598869: I tensorflow/tsl/framework/bfc_allocator.cc:1090] InUse at 717c15700 of size 256 next 92\n",
      "2025-01-20 10:03:24.598872: I tensorflow/tsl/framework/bfc_allocator.cc:1090] InUse at 717c15800 of size 256 next 85\n",
      "2025-01-20 10:03:24.598874: I tensorflow/tsl/framework/bfc_allocator.cc:1090] InUse at 717c15900 of size 256 next 68\n",
      "2025-01-20 10:03:24.598876: I tensorflow/tsl/framework/bfc_allocator.cc:1090] InUse at 717c15a00 of size 256 next 21\n",
      "2025-01-20 10:03:24.598878: I tensorflow/tsl/framework/bfc_allocator.cc:1090] InUse at 717c15b00 of size 2304 next 109\n",
      "2025-01-20 10:03:24.598881: I tensorflow/tsl/framework/bfc_allocator.cc:1090] InUse at 717c16400 of size 4608 next 48\n",
      "2025-01-20 10:03:24.598883: I tensorflow/tsl/framework/bfc_allocator.cc:1090] Free  at 717c17600 of size 6912 next 45\n",
      "2025-01-20 10:03:24.598885: I tensorflow/tsl/framework/bfc_allocator.cc:1090] InUse at 717c19100 of size 6912 next 98\n",
      "2025-01-20 10:03:24.598887: I tensorflow/tsl/framework/bfc_allocator.cc:1090] InUse at 717c1ac00 of size 12032 next 20\n",
      "2025-01-20 10:03:24.598890: I tensorflow/tsl/framework/bfc_allocator.cc:1090] InUse at 717c1db00 of size 16896 next 40\n",
      "2025-01-20 10:03:24.598892: I tensorflow/tsl/framework/bfc_allocator.cc:1090] InUse at 717c21d00 of size 147456 next 129\n",
      "2025-01-20 10:03:24.598898: I tensorflow/tsl/framework/bfc_allocator.cc:1090] Free  at 717c45d00 of size 897280 next 104\n",
      "2025-01-20 10:03:24.598901: I tensorflow/tsl/framework/bfc_allocator.cc:1090] InUse at 717d20e00 of size 147456 next 110\n",
      "2025-01-20 10:03:24.598903: I tensorflow/tsl/framework/bfc_allocator.cc:1090] InUse at 717d44e00 of size 32768 next 108\n",
      "2025-01-20 10:03:24.598906: I tensorflow/tsl/framework/bfc_allocator.cc:1090] Free  at 717d4ce00 of size 114688 next 100\n",
      "2025-01-20 10:03:24.598908: I tensorflow/tsl/framework/bfc_allocator.cc:1090] InUse at 717d68e00 of size 147456 next 107\n",
      "2025-01-20 10:03:24.598910: I tensorflow/tsl/framework/bfc_allocator.cc:1090] InUse at 717d8ce00 of size 147456 next 54\n",
      "2025-01-20 10:03:24.598912: I tensorflow/tsl/framework/bfc_allocator.cc:1090] InUse at 717db0e00 of size 147456 next 93\n",
      "2025-01-20 10:03:24.598915: I tensorflow/tsl/framework/bfc_allocator.cc:1090] InUse at 717dd4e00 of size 176640 next 18446744073709551615\n",
      "2025-01-20 10:03:24.598918: I tensorflow/tsl/framework/bfc_allocator.cc:1070] Next region of size 4294967296\n",
      "2025-01-20 10:03:24.598920: I tensorflow/tsl/framework/bfc_allocator.cc:1090] InUse at 717e00000 of size 2876774400 next 39\n",
      "2025-01-20 10:03:24.598923: I tensorflow/tsl/framework/bfc_allocator.cc:1090] Free  at 7c3581800 of size 490209280 next 101\n",
      "2025-01-20 10:03:24.598925: I tensorflow/tsl/framework/bfc_allocator.cc:1090] InUse at 7e0901800 of size 32768 next 56\n",
      "2025-01-20 10:03:24.598927: I tensorflow/tsl/framework/bfc_allocator.cc:1090] InUse at 7e0909800 of size 32768 next 57\n",
      "2025-01-20 10:03:24.598929: I tensorflow/tsl/framework/bfc_allocator.cc:1090] Free  at 7e0911800 of size 37012224 next 82\n",
      "2025-01-20 10:03:24.598932: I tensorflow/tsl/framework/bfc_allocator.cc:1090] InUse at 7e2c5db00 of size 14336 next 121\n",
      "2025-01-20 10:03:24.598934: I tensorflow/tsl/framework/bfc_allocator.cc:1090] InUse at 7e2c61300 of size 14336 next 91\n",
      "2025-01-20 10:03:24.598936: I tensorflow/tsl/framework/bfc_allocator.cc:1090] InUse at 7e2c64b00 of size 16384 next 60\n",
      "2025-01-20 10:03:24.598938: I tensorflow/tsl/framework/bfc_allocator.cc:1090] InUse at 7e2c68b00 of size 16384 next 115\n",
      "2025-01-20 10:03:24.598941: I tensorflow/tsl/framework/bfc_allocator.cc:1090] InUse at 7e2c6cb00 of size 719539200 next 114\n",
      "2025-01-20 10:03:24.598943: I tensorflow/tsl/framework/bfc_allocator.cc:1090] Free  at 80daa1700 of size 171305216 next 18446744073709551615\n",
      "2025-01-20 10:03:24.598945: I tensorflow/tsl/framework/bfc_allocator.cc:1070] Next region of size 3425697792\n",
      "2025-01-20 10:03:24.598948: I tensorflow/tsl/framework/bfc_allocator.cc:1090] Free  at 843000000 of size 3425697792 next 18446744073709551615\n",
      "2025-01-20 10:03:24.598950: I tensorflow/tsl/framework/bfc_allocator.cc:1095]      Summary of in-use Chunks by size: \n",
      "2025-01-20 10:03:24.598955: I tensorflow/tsl/framework/bfc_allocator.cc:1098] 56 Chunks of size 256 totalling 14.0KiB\n",
      "2025-01-20 10:03:24.598958: I tensorflow/tsl/framework/bfc_allocator.cc:1098] 4 Chunks of size 512 totalling 2.0KiB\n",
      "2025-01-20 10:03:24.598961: I tensorflow/tsl/framework/bfc_allocator.cc:1098] 2 Chunks of size 768 totalling 1.5KiB\n",
      "2025-01-20 10:03:24.598963: I tensorflow/tsl/framework/bfc_allocator.cc:1098] 1 Chunks of size 1280 totalling 1.2KiB\n",
      "2025-01-20 10:03:24.598966: I tensorflow/tsl/framework/bfc_allocator.cc:1098] 1 Chunks of size 2304 totalling 2.2KiB\n",
      "2025-01-20 10:03:24.598968: I tensorflow/tsl/framework/bfc_allocator.cc:1098] 1 Chunks of size 4608 totalling 4.5KiB\n",
      "2025-01-20 10:03:24.598971: I tensorflow/tsl/framework/bfc_allocator.cc:1098] 1 Chunks of size 6912 totalling 6.8KiB\n",
      "2025-01-20 10:03:24.598973: I tensorflow/tsl/framework/bfc_allocator.cc:1098] 1 Chunks of size 7168 totalling 7.0KiB\n",
      "2025-01-20 10:03:24.598976: I tensorflow/tsl/framework/bfc_allocator.cc:1098] 1 Chunks of size 12032 totalling 11.8KiB\n",
      "2025-01-20 10:03:24.598978: I tensorflow/tsl/framework/bfc_allocator.cc:1098] 3 Chunks of size 14336 totalling 42.0KiB\n",
      "2025-01-20 10:03:24.598981: I tensorflow/tsl/framework/bfc_allocator.cc:1098] 3 Chunks of size 16384 totalling 48.0KiB\n",
      "2025-01-20 10:03:24.598983: I tensorflow/tsl/framework/bfc_allocator.cc:1098] 2 Chunks of size 16896 totalling 33.0KiB\n",
      "2025-01-20 10:03:24.598986: I tensorflow/tsl/framework/bfc_allocator.cc:1098] 3 Chunks of size 32768 totalling 96.0KiB\n",
      "2025-01-20 10:03:24.598988: I tensorflow/tsl/framework/bfc_allocator.cc:1098] 5 Chunks of size 147456 totalling 720.0KiB\n",
      "2025-01-20 10:03:24.598993: I tensorflow/tsl/framework/bfc_allocator.cc:1098] 1 Chunks of size 176640 totalling 172.5KiB\n",
      "2025-01-20 10:03:24.598995: I tensorflow/tsl/framework/bfc_allocator.cc:1098] 1 Chunks of size 719539200 totalling 686.21MiB\n",
      "2025-01-20 10:03:24.598998: I tensorflow/tsl/framework/bfc_allocator.cc:1098] 1 Chunks of size 2876774400 totalling 2.68GiB\n",
      "2025-01-20 10:03:24.599000: I tensorflow/tsl/framework/bfc_allocator.cc:1102] Sum Total of in-use chunks: 3.35GiB\n",
      "2025-01-20 10:03:24.599003: I tensorflow/tsl/framework/bfc_allocator.cc:1104] total_region_allocated_bytes_: 7722762240 memory_limit_: 7722762240 available bytes: 0 curr_region_allocation_bytes_: 8589934592\n",
      "2025-01-20 10:03:24.599522: I tensorflow/tsl/framework/bfc_allocator.cc:1110] Stats: \n",
      "Limit:                      7722762240\n",
      "InUse:                      3597504000\n",
      "MaxInUse:                   6573756672\n",
      "NumAllocs:                      181269\n",
      "MaxAllocSize:               2876774400\n",
      "Reserved:                            0\n",
      "PeakReserved:                        0\n",
      "LargestFreeBlock:                    0\n",
      "\n",
      "2025-01-20 10:03:24.599541: W tensorflow/tsl/framework/bfc_allocator.cc:492] **************************************_____***********______________________________________________\n"
     ]
    },
    {
     "ename": "InternalError",
     "evalue": "Failed copying input tensor from /job:localhost/replica:0/task:0/device:CPU:0 to /job:localhost/replica:0/task:0/device:GPU:0 in order to run _EagerConst: Dst tensor is not initialized.",
     "output_type": "error",
     "traceback": [
      "\u001b[0;31m---------------------------------------------------------------------------\u001b[0m",
      "\u001b[0;31mInternalError\u001b[0m                             Traceback (most recent call last)",
      "\u001b[0;32m/tmp/ipykernel_7077/1902810878.py\u001b[0m in \u001b[0;36m<module>\u001b[0;34m\u001b[0m\n\u001b[1;32m      8\u001b[0m \u001b[0;34m\u001b[0m\u001b[0m\n\u001b[1;32m      9\u001b[0m \u001b[0mtime\u001b[0m\u001b[0;34m.\u001b[0m\u001b[0msleep\u001b[0m\u001b[0;34m(\u001b[0m\u001b[0;36m5\u001b[0m\u001b[0;34m)\u001b[0m\u001b[0;34m\u001b[0m\u001b[0;34m\u001b[0m\u001b[0m\n\u001b[0;32m---> 10\u001b[0;31m \u001b[0mpredictions\u001b[0m \u001b[0;34m=\u001b[0m \u001b[0mmodel\u001b[0m\u001b[0;34m.\u001b[0m\u001b[0mpredict\u001b[0m\u001b[0;34m(\u001b[0m\u001b[0;34m[\u001b[0m\u001b[0mX\u001b[0m\u001b[0;34m,\u001b[0m\u001b[0mX1\u001b[0m\u001b[0;34m]\u001b[0m\u001b[0;34m,\u001b[0m \u001b[0mbatch_size\u001b[0m\u001b[0;34m=\u001b[0m\u001b[0;36m16\u001b[0m\u001b[0;34m)\u001b[0m\u001b[0;34m\u001b[0m\u001b[0;34m\u001b[0m\u001b[0m\n\u001b[0m\u001b[1;32m     11\u001b[0m \u001b[0mprint\u001b[0m\u001b[0;34m(\u001b[0m\u001b[0;34m\"Prediction min: \"\u001b[0m\u001b[0;34m,\u001b[0m\u001b[0mpredictions\u001b[0m\u001b[0;34m.\u001b[0m\u001b[0mmin\u001b[0m\u001b[0;34m(\u001b[0m\u001b[0;34m)\u001b[0m\u001b[0;34m,\u001b[0m\u001b[0;34m\" Prediction max: \"\u001b[0m\u001b[0;34m,\u001b[0m\u001b[0mpredictions\u001b[0m\u001b[0;34m.\u001b[0m\u001b[0mmax\u001b[0m\u001b[0;34m(\u001b[0m\u001b[0;34m)\u001b[0m\u001b[0;34m)\u001b[0m\u001b[0;34m\u001b[0m\u001b[0;34m\u001b[0m\u001b[0m\n",
      "\u001b[0;32m~/.pyenv/versions/3.7.17/envs/carla-0.9.13-py3.7/lib/python3.7/site-packages/keras/utils/traceback_utils.py\u001b[0m in \u001b[0;36merror_handler\u001b[0;34m(*args, **kwargs)\u001b[0m\n\u001b[1;32m     68\u001b[0m             \u001b[0;31m# To get the full stack trace, call:\u001b[0m\u001b[0;34m\u001b[0m\u001b[0;34m\u001b[0m\u001b[0;34m\u001b[0m\u001b[0m\n\u001b[1;32m     69\u001b[0m             \u001b[0;31m# `tf.debugging.disable_traceback_filtering()`\u001b[0m\u001b[0;34m\u001b[0m\u001b[0;34m\u001b[0m\u001b[0;34m\u001b[0m\u001b[0m\n\u001b[0;32m---> 70\u001b[0;31m             \u001b[0;32mraise\u001b[0m \u001b[0me\u001b[0m\u001b[0;34m.\u001b[0m\u001b[0mwith_traceback\u001b[0m\u001b[0;34m(\u001b[0m\u001b[0mfiltered_tb\u001b[0m\u001b[0;34m)\u001b[0m \u001b[0;32mfrom\u001b[0m \u001b[0;32mNone\u001b[0m\u001b[0;34m\u001b[0m\u001b[0;34m\u001b[0m\u001b[0m\n\u001b[0m\u001b[1;32m     71\u001b[0m         \u001b[0;32mfinally\u001b[0m\u001b[0;34m:\u001b[0m\u001b[0;34m\u001b[0m\u001b[0;34m\u001b[0m\u001b[0m\n\u001b[1;32m     72\u001b[0m             \u001b[0;32mdel\u001b[0m \u001b[0mfiltered_tb\u001b[0m\u001b[0;34m\u001b[0m\u001b[0;34m\u001b[0m\u001b[0m\n",
      "\u001b[0;32m~/.pyenv/versions/3.7.17/envs/carla-0.9.13-py3.7/lib/python3.7/site-packages/tensorflow/python/framework/constant_op.py\u001b[0m in \u001b[0;36mconvert_to_eager_tensor\u001b[0;34m(value, ctx, dtype)\u001b[0m\n\u001b[1;32m    100\u001b[0m       \u001b[0mdtype\u001b[0m \u001b[0;34m=\u001b[0m \u001b[0mdtypes\u001b[0m\u001b[0;34m.\u001b[0m\u001b[0mas_dtype\u001b[0m\u001b[0;34m(\u001b[0m\u001b[0mdtype\u001b[0m\u001b[0;34m)\u001b[0m\u001b[0;34m.\u001b[0m\u001b[0mas_datatype_enum\u001b[0m\u001b[0;34m\u001b[0m\u001b[0;34m\u001b[0m\u001b[0m\n\u001b[1;32m    101\u001b[0m   \u001b[0mctx\u001b[0m\u001b[0;34m.\u001b[0m\u001b[0mensure_initialized\u001b[0m\u001b[0;34m(\u001b[0m\u001b[0;34m)\u001b[0m\u001b[0;34m\u001b[0m\u001b[0;34m\u001b[0m\u001b[0m\n\u001b[0;32m--> 102\u001b[0;31m   \u001b[0;32mreturn\u001b[0m \u001b[0mops\u001b[0m\u001b[0;34m.\u001b[0m\u001b[0mEagerTensor\u001b[0m\u001b[0;34m(\u001b[0m\u001b[0mvalue\u001b[0m\u001b[0;34m,\u001b[0m \u001b[0mctx\u001b[0m\u001b[0;34m.\u001b[0m\u001b[0mdevice_name\u001b[0m\u001b[0;34m,\u001b[0m \u001b[0mdtype\u001b[0m\u001b[0;34m)\u001b[0m\u001b[0;34m\u001b[0m\u001b[0;34m\u001b[0m\u001b[0m\n\u001b[0m\u001b[1;32m    103\u001b[0m \u001b[0;34m\u001b[0m\u001b[0m\n\u001b[1;32m    104\u001b[0m \u001b[0;34m\u001b[0m\u001b[0m\n",
      "\u001b[0;31mInternalError\u001b[0m: Failed copying input tensor from /job:localhost/replica:0/task:0/device:CPU:0 to /job:localhost/replica:0/task:0/device:GPU:0 in order to run _EagerConst: Dst tensor is not initialized."
     ]
    }
   ],
   "source": [
    "from keras.callbacks import ReduceLROnPlateau, EarlyStopping\n",
    "import time\n",
    "\n",
    "model.compile(loss='MSE', optimizer='adam')\n",
    "early_stopping = EarlyStopping(monitor='val_loss', patience=3, restore_best_weights=True) # patience=3\n",
    "reduce_lr = ReduceLROnPlateau(monitor='val_loss', factor=0.2, patience=1, min_lr=0.00001) # patience=1\n",
    "model.fit([X,X1], Y, batch_size=16, shuffle=False, epochs=10, validation_split=0.2, callbacks=[early_stopping, reduce_lr]) # reduce_lr\n",
    "\n",
    "time.sleep(5)\n",
    "predictions = model.predict([X,X1], batch_size=16)\n",
    "print(\"Prediction min: \",predictions.min(),\" Prediction max: \",predictions.max())"
   ]
  },
  {
   "cell_type": "code",
   "execution_count": 10,
   "metadata": {},
   "outputs": [
    {
     "name": "stdout",
     "output_type": "stream",
     "text": [
      "This is how predictions are distributed:\n"
     ]
    },
    {
     "data": {
      "image/png": "[encoded data removed]",
      "text/plain": [
       "<Figure size 640x480 with 1 Axes>"
      ]
     },
     "metadata": {},
     "output_type": "display_data"
    }
   ],
   "source": [
    "# draw how Predictions are distributed \n",
    "frq, edges = np.histogram(predictions, bins=20)\n",
    "fig, ax = plt.subplots()\n",
    "ax.bar(edges[:-1], frq, width=np.diff(edges), edgecolor=\"black\", align=\"edge\")\n",
    "print('This is how predictions are distributed:')\n",
    "plt.show()"
   ]
  },
  {
   "cell_type": "code",
   "execution_count": 10,
   "metadata": {},
   "outputs": [
    {
     "name": "stderr",
     "output_type": "stream",
     "text": [
      "WARNING:absl:Found untraced functions such as _jit_compiled_convolution_op, _jit_compiled_convolution_op, _jit_compiled_convolution_op while saving (showing 3 of 3). These functions will not be directly callable after loading.\n"
     ]
    },
    {
     "name": "stdout",
     "output_type": "stream",
     "text": [
      "INFO:tensorflow:Assets written to: GPS_Visual_Model_over/assets\n"
     ]
    },
    {
     "name": "stderr",
     "output_type": "stream",
     "text": [
      "INFO:tensorflow:Assets written to: GPS_Visual_Model_over/assets\n"
     ]
    }
   ],
   "source": [
    "# to save model\n",
    "model.save(\"GPS_Visual_Model_over\", overwrite=True,include_optimizer=True,\n",
    "    save_format=None, signatures=None, options=None, save_traces=True)"
   ]
  }
 ],
 "metadata": {
  "kernelspec": {
   "display_name": "carla-0.9.13-py3.7",
   "language": "python",
   "name": "python3"
  },
  "language_info": {
   "codemirror_mode": {
    "name": "ipython",
    "version": 3
   },
   "file_extension": ".py",
   "mimetype": "text/x-python",
   "name": "python",
   "nbconvert_exporter": "python",
   "pygments_lexer": "ipython3",
   "version": "3.7.17"
  }
 },
 "nbformat": 4,
 "nbformat_minor": 2
}
